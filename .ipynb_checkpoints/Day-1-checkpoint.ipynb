{
 "cells": [
  {
   "cell_type": "code",
   "execution_count": 1,
   "metadata": {
    "collapsed": false
   },
   "outputs": [
    {
     "name": "stderr",
     "output_type": "stream",
     "text": [
      "/Users/tvnguyen/Softwares/anaconda2/lib/python2.7/site-packages/matplotlib/font_manager.py:273: UserWarning: Matplotlib is building the font cache using fc-list. This may take a moment.\n",
      "  warnings.warn('Matplotlib is building the font cache using fc-list. This may take a moment.')\n"
     ]
    }
   ],
   "source": [
    "import numpy as np\n",
    "import pandas as pd\n",
    "import matplotlib.pyplot as plt\n",
    "\n",
    "from collections import OrderedDict\n",
    "from IPython.display import display\n",
    "from scipy import interp\n",
    "from matplotlib.colors import ListedColormap\n",
    "\n",
    "from sklearn.svm import LinearSVC, SVC\n",
    "from sklearn import ensemble, datasets, metrics, preprocessing, svm\n",
    "from sklearn.cross_validation import KFold, StratifiedKFold\n",
    "from sklearn.datasets import dump_svmlight_file\n",
    "from sklearn.datasets import make_classification\n",
    "from sklearn.discriminant_analysis import LinearDiscriminantAnalysis, QuadraticDiscriminantAnalysis\n",
    "from sklearn.ensemble import AdaBoostClassifier, RandomForestClassifier\n",
    "from sklearn.metrics import auc, mean_squared_error, roc_curve\n",
    "from sklearn.multiclass import OneVsRestClassifier\n",
    "from sklearn.naive_bayes import GaussianNB\n",
    "from sklearn.neighbors import KNeighborsClassifier\n",
    "from sklearn.preprocessing import Imputer, StandardScaler\n",
    "from sklearn.tree import DecisionTreeClassifier\n",
    "from svmutil import *\n",
    "\n",
    "import datetime\n",
    "\n",
    "%matplotlib inline"
   ]
  },
  {
   "cell_type": "code",
   "execution_count": 2,
   "metadata": {
    "collapsed": false
   },
   "outputs": [
    {
     "name": "stderr",
     "output_type": "stream",
     "text": [
      "/Users/tvnguyen/Softwares/anaconda2/lib/python2.7/site-packages/IPython/core/interactiveshell.py:2723: DtypeWarning: Columns (90,105,119,120,123,124,132,134,135,138,139,147,149,150,153,154,162,164,165,168,169,177,179,183,184,192,194,198,199,207,209,213,214,224,237,239,244) have mixed types. Specify dtype option on import or set low_memory=False.\n",
      "  interactivity=interactivity, compiler=compiler, result=result)\n"
     ]
    },
    {
     "data": {
      "text/html": [
       "<div>\n",
       "<table border=\"1\" class=\"dataframe\">\n",
       "  <thead>\n",
       "    <tr style=\"text-align: right;\">\n",
       "      <th></th>\n",
       "      <th>Grant.Application.ID</th>\n",
       "      <th>Grant.Status</th>\n",
       "      <th>Sponsor.Code</th>\n",
       "      <th>Grant.Category.Code</th>\n",
       "      <th>Contract.Value.Band...see.note.A</th>\n",
       "      <th>Start.date</th>\n",
       "      <th>RFCD.Code.1</th>\n",
       "      <th>RFCD.Percentage.1</th>\n",
       "      <th>RFCD.Code.2</th>\n",
       "      <th>RFCD.Percentage.2</th>\n",
       "      <th>...</th>\n",
       "      <th>Faculty.No..15</th>\n",
       "      <th>With.PHD.15</th>\n",
       "      <th>No..of.Years.in.Uni.at.Time.of.Grant.15</th>\n",
       "      <th>Number.of.Successful.Grant.15</th>\n",
       "      <th>Number.of.Unsuccessful.Grant.15</th>\n",
       "      <th>A..15</th>\n",
       "      <th>A.15</th>\n",
       "      <th>B.15</th>\n",
       "      <th>C.15</th>\n",
       "      <th>Unnamed: 251</th>\n",
       "    </tr>\n",
       "  </thead>\n",
       "  <tbody>\n",
       "    <tr>\n",
       "      <th>0</th>\n",
       "      <td>1</td>\n",
       "      <td>1</td>\n",
       "      <td>NaN</td>\n",
       "      <td>NaN</td>\n",
       "      <td>A</td>\n",
       "      <td>8/11/05</td>\n",
       "      <td>280199.0</td>\n",
       "      <td>100.0</td>\n",
       "      <td>0.0</td>\n",
       "      <td>0.0</td>\n",
       "      <td>...</td>\n",
       "      <td>NaN</td>\n",
       "      <td>NaN</td>\n",
       "      <td>NaN</td>\n",
       "      <td>NaN</td>\n",
       "      <td>NaN</td>\n",
       "      <td>NaN</td>\n",
       "      <td>NaN</td>\n",
       "      <td>NaN</td>\n",
       "      <td>NaN</td>\n",
       "      <td>NaN</td>\n",
       "    </tr>\n",
       "    <tr>\n",
       "      <th>1</th>\n",
       "      <td>2</td>\n",
       "      <td>1</td>\n",
       "      <td>2B</td>\n",
       "      <td>10A</td>\n",
       "      <td>B</td>\n",
       "      <td>11/11/05</td>\n",
       "      <td>280103.0</td>\n",
       "      <td>30.0</td>\n",
       "      <td>280106.0</td>\n",
       "      <td>30.0</td>\n",
       "      <td>...</td>\n",
       "      <td>NaN</td>\n",
       "      <td>NaN</td>\n",
       "      <td>NaN</td>\n",
       "      <td>NaN</td>\n",
       "      <td>NaN</td>\n",
       "      <td>NaN</td>\n",
       "      <td>NaN</td>\n",
       "      <td>NaN</td>\n",
       "      <td>NaN</td>\n",
       "      <td>NaN</td>\n",
       "    </tr>\n",
       "    <tr>\n",
       "      <th>2</th>\n",
       "      <td>3</td>\n",
       "      <td>1</td>\n",
       "      <td>29A</td>\n",
       "      <td>10B</td>\n",
       "      <td>A</td>\n",
       "      <td>14/11/05</td>\n",
       "      <td>321004.0</td>\n",
       "      <td>60.0</td>\n",
       "      <td>321216.0</td>\n",
       "      <td>40.0</td>\n",
       "      <td>...</td>\n",
       "      <td>NaN</td>\n",
       "      <td>NaN</td>\n",
       "      <td>NaN</td>\n",
       "      <td>NaN</td>\n",
       "      <td>NaN</td>\n",
       "      <td>NaN</td>\n",
       "      <td>NaN</td>\n",
       "      <td>NaN</td>\n",
       "      <td>NaN</td>\n",
       "      <td>NaN</td>\n",
       "    </tr>\n",
       "    <tr>\n",
       "      <th>3</th>\n",
       "      <td>4</td>\n",
       "      <td>1</td>\n",
       "      <td>40D</td>\n",
       "      <td>10B</td>\n",
       "      <td>C</td>\n",
       "      <td>15/11/05</td>\n",
       "      <td>270602.0</td>\n",
       "      <td>50.0</td>\n",
       "      <td>320602.0</td>\n",
       "      <td>50.0</td>\n",
       "      <td>...</td>\n",
       "      <td>NaN</td>\n",
       "      <td>NaN</td>\n",
       "      <td>NaN</td>\n",
       "      <td>NaN</td>\n",
       "      <td>NaN</td>\n",
       "      <td>NaN</td>\n",
       "      <td>NaN</td>\n",
       "      <td>NaN</td>\n",
       "      <td>NaN</td>\n",
       "      <td>NaN</td>\n",
       "    </tr>\n",
       "    <tr>\n",
       "      <th>4</th>\n",
       "      <td>5</td>\n",
       "      <td>0</td>\n",
       "      <td>59C</td>\n",
       "      <td>10A</td>\n",
       "      <td>A</td>\n",
       "      <td>16/11/05</td>\n",
       "      <td>260500.0</td>\n",
       "      <td>34.0</td>\n",
       "      <td>280000.0</td>\n",
       "      <td>33.0</td>\n",
       "      <td>...</td>\n",
       "      <td>NaN</td>\n",
       "      <td>NaN</td>\n",
       "      <td>NaN</td>\n",
       "      <td>NaN</td>\n",
       "      <td>NaN</td>\n",
       "      <td>NaN</td>\n",
       "      <td>NaN</td>\n",
       "      <td>NaN</td>\n",
       "      <td>NaN</td>\n",
       "      <td>NaN</td>\n",
       "    </tr>\n",
       "  </tbody>\n",
       "</table>\n",
       "<p>5 rows × 252 columns</p>\n",
       "</div>"
      ],
      "text/plain": [
       "   Grant.Application.ID  Grant.Status Sponsor.Code Grant.Category.Code  \\\n",
       "0                     1             1          NaN                 NaN   \n",
       "1                     2             1           2B                 10A   \n",
       "2                     3             1          29A                 10B   \n",
       "3                     4             1          40D                 10B   \n",
       "4                     5             0          59C                 10A   \n",
       "\n",
       "  Contract.Value.Band...see.note.A Start.date  RFCD.Code.1  RFCD.Percentage.1  \\\n",
       "0                               A     8/11/05     280199.0              100.0   \n",
       "1                               B    11/11/05     280103.0               30.0   \n",
       "2                               A    14/11/05     321004.0               60.0   \n",
       "3                               C    15/11/05     270602.0               50.0   \n",
       "4                               A    16/11/05     260500.0               34.0   \n",
       "\n",
       "   RFCD.Code.2  RFCD.Percentage.2      ...       Faculty.No..15  With.PHD.15  \\\n",
       "0          0.0                0.0      ...                  NaN          NaN   \n",
       "1     280106.0               30.0      ...                  NaN          NaN   \n",
       "2     321216.0               40.0      ...                  NaN          NaN   \n",
       "3     320602.0               50.0      ...                  NaN          NaN   \n",
       "4     280000.0               33.0      ...                  NaN          NaN   \n",
       "\n",
       "   No..of.Years.in.Uni.at.Time.of.Grant.15  Number.of.Successful.Grant.15  \\\n",
       "0                                      NaN                            NaN   \n",
       "1                                      NaN                            NaN   \n",
       "2                                      NaN                            NaN   \n",
       "3                                      NaN                            NaN   \n",
       "4                                      NaN                            NaN   \n",
       "\n",
       "   Number.of.Unsuccessful.Grant.15  A..15  A.15  B.15  C.15  Unnamed: 251  \n",
       "0                              NaN    NaN   NaN   NaN   NaN           NaN  \n",
       "1                              NaN    NaN   NaN   NaN   NaN           NaN  \n",
       "2                              NaN    NaN   NaN   NaN   NaN           NaN  \n",
       "3                              NaN    NaN   NaN   NaN   NaN           NaN  \n",
       "4                              NaN    NaN   NaN   NaN   NaN           NaN  \n",
       "\n",
       "[5 rows x 252 columns]"
      ]
     },
     "execution_count": 2,
     "metadata": {},
     "output_type": "execute_result"
    }
   ],
   "source": [
    "train = pd.read_csv('data.csv')\n",
    "train.head()"
   ]
  },
  {
   "cell_type": "code",
   "execution_count": 3,
   "metadata": {
    "collapsed": true
   },
   "outputs": [],
   "source": [
    "#daria \n",
    "vali = pd.read_csv('Validation_25.csv')\n",
    "test = pd.read_csv('Testing 75.csv')"
   ]
  },
  {
   "cell_type": "code",
   "execution_count": 19,
   "metadata": {
    "collapsed": false
   },
   "outputs": [
    {
     "data": {
      "text/html": [
       "<div>\n",
       "<table border=\"1\" class=\"dataframe\">\n",
       "  <thead>\n",
       "    <tr style=\"text-align: right;\">\n",
       "      <th></th>\n",
       "      <th>Grant.Application.ID</th>\n",
       "      <th>Sponsor.Code</th>\n",
       "      <th>Grant.Category.Code</th>\n",
       "      <th>Contract.Value.Band...see.note.A</th>\n",
       "      <th>Start.date</th>\n",
       "      <th>RFCD.Code.1</th>\n",
       "      <th>RFCD.Percentage.1</th>\n",
       "      <th>RFCD.Code.2</th>\n",
       "      <th>RFCD.Percentage.2</th>\n",
       "      <th>RFCD.Code.3</th>\n",
       "      <th>...</th>\n",
       "      <th>Faculty.No..15</th>\n",
       "      <th>With.PHD.15</th>\n",
       "      <th>No..of.Years.in.Uni.at.Time.of.Grant.15</th>\n",
       "      <th>Number.of.Successful.Grant.15</th>\n",
       "      <th>Number.of.Unsuccessful.Grant.15</th>\n",
       "      <th>A..15</th>\n",
       "      <th>A.15</th>\n",
       "      <th>B.15</th>\n",
       "      <th>C.15</th>\n",
       "      <th>Unnamed: 251</th>\n",
       "    </tr>\n",
       "  </thead>\n",
       "  <tbody>\n",
       "    <tr>\n",
       "      <th>0</th>\n",
       "      <td>1</td>\n",
       "      <td>NaN</td>\n",
       "      <td>NaN</td>\n",
       "      <td>A</td>\n",
       "      <td>8/11/05</td>\n",
       "      <td>280199.0</td>\n",
       "      <td>100.0</td>\n",
       "      <td>0.0</td>\n",
       "      <td>0.0</td>\n",
       "      <td>0.0</td>\n",
       "      <td>...</td>\n",
       "      <td>NaN</td>\n",
       "      <td>NaN</td>\n",
       "      <td>NaN</td>\n",
       "      <td>NaN</td>\n",
       "      <td>NaN</td>\n",
       "      <td>NaN</td>\n",
       "      <td>NaN</td>\n",
       "      <td>NaN</td>\n",
       "      <td>NaN</td>\n",
       "      <td>NaN</td>\n",
       "    </tr>\n",
       "    <tr>\n",
       "      <th>1</th>\n",
       "      <td>2</td>\n",
       "      <td>2B</td>\n",
       "      <td>10A</td>\n",
       "      <td>B</td>\n",
       "      <td>11/11/05</td>\n",
       "      <td>280103.0</td>\n",
       "      <td>30.0</td>\n",
       "      <td>280106.0</td>\n",
       "      <td>30.0</td>\n",
       "      <td>280203.0</td>\n",
       "      <td>...</td>\n",
       "      <td>NaN</td>\n",
       "      <td>NaN</td>\n",
       "      <td>NaN</td>\n",
       "      <td>NaN</td>\n",
       "      <td>NaN</td>\n",
       "      <td>NaN</td>\n",
       "      <td>NaN</td>\n",
       "      <td>NaN</td>\n",
       "      <td>NaN</td>\n",
       "      <td>NaN</td>\n",
       "    </tr>\n",
       "    <tr>\n",
       "      <th>2</th>\n",
       "      <td>3</td>\n",
       "      <td>29A</td>\n",
       "      <td>10B</td>\n",
       "      <td>A</td>\n",
       "      <td>14/11/05</td>\n",
       "      <td>321004.0</td>\n",
       "      <td>60.0</td>\n",
       "      <td>321216.0</td>\n",
       "      <td>40.0</td>\n",
       "      <td>0.0</td>\n",
       "      <td>...</td>\n",
       "      <td>NaN</td>\n",
       "      <td>NaN</td>\n",
       "      <td>NaN</td>\n",
       "      <td>NaN</td>\n",
       "      <td>NaN</td>\n",
       "      <td>NaN</td>\n",
       "      <td>NaN</td>\n",
       "      <td>NaN</td>\n",
       "      <td>NaN</td>\n",
       "      <td>NaN</td>\n",
       "    </tr>\n",
       "    <tr>\n",
       "      <th>3</th>\n",
       "      <td>4</td>\n",
       "      <td>40D</td>\n",
       "      <td>10B</td>\n",
       "      <td>C</td>\n",
       "      <td>15/11/05</td>\n",
       "      <td>270602.0</td>\n",
       "      <td>50.0</td>\n",
       "      <td>320602.0</td>\n",
       "      <td>50.0</td>\n",
       "      <td>0.0</td>\n",
       "      <td>...</td>\n",
       "      <td>NaN</td>\n",
       "      <td>NaN</td>\n",
       "      <td>NaN</td>\n",
       "      <td>NaN</td>\n",
       "      <td>NaN</td>\n",
       "      <td>NaN</td>\n",
       "      <td>NaN</td>\n",
       "      <td>NaN</td>\n",
       "      <td>NaN</td>\n",
       "      <td>NaN</td>\n",
       "    </tr>\n",
       "    <tr>\n",
       "      <th>4</th>\n",
       "      <td>5</td>\n",
       "      <td>59C</td>\n",
       "      <td>10A</td>\n",
       "      <td>A</td>\n",
       "      <td>16/11/05</td>\n",
       "      <td>260500.0</td>\n",
       "      <td>34.0</td>\n",
       "      <td>280000.0</td>\n",
       "      <td>33.0</td>\n",
       "      <td>290000.0</td>\n",
       "      <td>...</td>\n",
       "      <td>NaN</td>\n",
       "      <td>NaN</td>\n",
       "      <td>NaN</td>\n",
       "      <td>NaN</td>\n",
       "      <td>NaN</td>\n",
       "      <td>NaN</td>\n",
       "      <td>NaN</td>\n",
       "      <td>NaN</td>\n",
       "      <td>NaN</td>\n",
       "      <td>NaN</td>\n",
       "    </tr>\n",
       "  </tbody>\n",
       "</table>\n",
       "<p>5 rows × 251 columns</p>\n",
       "</div>"
      ],
      "text/plain": [
       "   Grant.Application.ID Sponsor.Code Grant.Category.Code  \\\n",
       "0                     1          NaN                 NaN   \n",
       "1                     2           2B                 10A   \n",
       "2                     3          29A                 10B   \n",
       "3                     4          40D                 10B   \n",
       "4                     5          59C                 10A   \n",
       "\n",
       "  Contract.Value.Band...see.note.A Start.date  RFCD.Code.1  RFCD.Percentage.1  \\\n",
       "0                               A     8/11/05     280199.0              100.0   \n",
       "1                               B    11/11/05     280103.0               30.0   \n",
       "2                               A    14/11/05     321004.0               60.0   \n",
       "3                               C    15/11/05     270602.0               50.0   \n",
       "4                               A    16/11/05     260500.0               34.0   \n",
       "\n",
       "   RFCD.Code.2  RFCD.Percentage.2  RFCD.Code.3      ...       Faculty.No..15  \\\n",
       "0          0.0                0.0          0.0      ...                  NaN   \n",
       "1     280106.0               30.0     280203.0      ...                  NaN   \n",
       "2     321216.0               40.0          0.0      ...                  NaN   \n",
       "3     320602.0               50.0          0.0      ...                  NaN   \n",
       "4     280000.0               33.0     290000.0      ...                  NaN   \n",
       "\n",
       "   With.PHD.15  No..of.Years.in.Uni.at.Time.of.Grant.15  \\\n",
       "0          NaN                                      NaN   \n",
       "1          NaN                                      NaN   \n",
       "2          NaN                                      NaN   \n",
       "3          NaN                                      NaN   \n",
       "4          NaN                                      NaN   \n",
       "\n",
       "   Number.of.Successful.Grant.15  Number.of.Unsuccessful.Grant.15  A..15  \\\n",
       "0                            NaN                              NaN    NaN   \n",
       "1                            NaN                              NaN    NaN   \n",
       "2                            NaN                              NaN    NaN   \n",
       "3                            NaN                              NaN    NaN   \n",
       "4                            NaN                              NaN    NaN   \n",
       "\n",
       "   A.15  B.15  C.15  Unnamed: 251  \n",
       "0   NaN   NaN   NaN           NaN  \n",
       "1   NaN   NaN   NaN           NaN  \n",
       "2   NaN   NaN   NaN           NaN  \n",
       "3   NaN   NaN   NaN           NaN  \n",
       "4   NaN   NaN   NaN           NaN  \n",
       "\n",
       "[5 rows x 251 columns]"
      ]
     },
     "execution_count": 19,
     "metadata": {},
     "output_type": "execute_result"
    }
   ],
   "source": [
    "y = train['Grant.Status']\n",
    "X = train.drop('Grant.Status', axis=1)\n",
    "X.head()"
   ]
  },
  {
   "cell_type": "code",
   "execution_count": 20,
   "metadata": {
    "collapsed": false
   },
   "outputs": [
    {
     "data": {
      "text/plain": [
       "0     A \n",
       "1     B \n",
       "2     A \n",
       "3     C \n",
       "4     A \n",
       "5    NaN\n",
       "6    NaN\n",
       "7     A \n",
       "8     H \n",
       "9    NaN\n",
       "Name: Contract.Value.Band...see.note.A, dtype: object"
      ]
     },
     "execution_count": 20,
     "metadata": {},
     "output_type": "execute_result"
    }
   ],
   "source": [
    "d = [['A', 50000], ['B', 100000], ['C', 200000], ['D', 300000], ['E', 400000], \n",
    "     ['F', 500000], ['G', 1000000], ['H', 2000000], ['I', 3000000], ['J', 4000000], \n",
    "     ['K', 5000000], ['L', 6000000], ['M', 7000000], ['N', 8000000], ['O', 9000000], \n",
    "     ['P', 10000000], ['Q', 100000000]]\n",
    "def contract_value(x):\n",
    "    for i in range(4):\n",
    "        if d[i][0] == x:\n",
    "            return d[i][1]\n",
    "    return 0\n",
    "X['Contract.Value.Band...see.note.A'][0:10]"
   ]
  },
  {
   "cell_type": "code",
   "execution_count": 6,
   "metadata": {
    "collapsed": false
   },
   "outputs": [],
   "source": [
    "#X['Contract.Value.Band...see.note.A'] = X['Contract.Value.Band...see.note.A'].str.strip()\n",
    "#X['Contract.Value.Band...see.note.A'] = X['Contract.Value.Band...see.note.A'].apply(contract_value)"
   ]
  },
  {
   "cell_type": "code",
   "execution_count": 21,
   "metadata": {
    "collapsed": true
   },
   "outputs": [],
   "source": [
    "# convert the first 25 string to numerical features\n",
    "X['Sponsor.Code'] = pd.get_dummies(X['Sponsor.Code'], dummy_na=True).values.argmax(1)\n",
    "X['Grant.Category.Code'] = pd.get_dummies(X['Grant.Category.Code'], dummy_na=True).values.argmax(1)\n",
    "X['Contract.Value.Band...see.note.A'] = pd.get_dummies(X['Contract.Value.Band...see.note.A'], dummy_na=True).values.argmax(1)\n",
    "X['RFCD.Code.1'] = pd.get_dummies(X['RFCD.Code.1'], dummy_na=True).values.argmax(1)\n",
    "X['RFCD.Percentage.1'] = pd.get_dummies(X['RFCD.Percentage.1'], dummy_na=True).values.argmax(1)\n",
    "X['RFCD.Code.2'] = pd.get_dummies(X['RFCD.Code.2'], dummy_na=True).values.argmax(1)\n",
    "X['RFCD.Percentage.2'] = pd.get_dummies(X['RFCD.Percentage.2'], dummy_na=True).values.argmax(1)\n",
    "X['RFCD.Code.3'] = pd.get_dummies(X['RFCD.Code.3'], dummy_na=True).values.argmax(1)\n",
    "X['RFCD.Percentage.3'] = pd.get_dummies(X['RFCD.Percentage.3'], dummy_na=True).values.argmax(1)\n",
    "X['RFCD.Code.4'] = pd.get_dummies(X['RFCD.Code.4'], dummy_na=True).values.argmax(1)\n",
    "X['RFCD.Percentage.4'] = pd.get_dummies(X['RFCD.Percentage.4'], dummy_na=True).values.argmax(1)\n",
    "X['RFCD.Code.5'] = pd.get_dummies(X['RFCD.Code.5'], dummy_na=True).values.argmax(1)\n",
    "X['RFCD.Percentage.5'] = pd.get_dummies(X['RFCD.Percentage.5'], dummy_na=True).values.argmax(1)\n",
    "X['SEO.Code.1'] = pd.get_dummies(X['SEO.Code.1'], dummy_na=True).values.argmax(1)\n",
    "X['SEO.Percentage.1'] = pd.get_dummies(X['SEO.Percentage.1'], dummy_na=True).values.argmax(1)\n",
    "X['SEO.Code.2'] = pd.get_dummies(X['SEO.Code.2'], dummy_na=True).values.argmax(1)\n",
    "X['SEO.Percentage.2'] = pd.get_dummies(X['SEO.Percentage.2'], dummy_na=True).values.argmax(1)\n",
    "X['SEO.Code.3'] = pd.get_dummies(X['SEO.Code.3'], dummy_na=True).values.argmax(1)\n",
    "X['SEO.Percentage.3'] = pd.get_dummies(X['SEO.Percentage.3'], dummy_na=True).values.argmax(1)\n",
    "X['SEO.Code.4'] = pd.get_dummies(X['SEO.Code.4'], dummy_na=True).values.argmax(1)\n",
    "X['SEO.Percentage.4'] = pd.get_dummies(X['SEO.Percentage.4'], dummy_na=True).values.argmax(1)\n",
    "X['SEO.Code.5'] = pd.get_dummies(X['SEO.Code.5'], dummy_na=True).values.argmax(1)\n",
    "X['SEO.Percentage.5'] = pd.get_dummies(X['SEO.Percentage.5'], dummy_na=True).values.argmax(1)"
   ]
  },
  {
   "cell_type": "code",
   "execution_count": 22,
   "metadata": {
    "collapsed": false
   },
   "outputs": [],
   "source": [
    "# convert string features of 15 people to numerics\n",
    "col = 26\n",
    "for i in range(15):\n",
    "    X[X.columns[col]] = pd.get_dummies(X[X.columns[col]], dummy_na=True).values.argmax(1)\n",
    "    X[X.columns[col + 2]] = pd.get_dummies(X[X.columns[col + 2]], dummy_na=True).values.argmax(1)\n",
    "    X[X.columns[col + 3]] = pd.get_dummies(X[X.columns[col + 3]], dummy_na=True).values.argmax(1)\n",
    "    X[X.columns[col + 6]] = pd.get_dummies(X[X.columns[col + 6]], dummy_na=True).values.argmax(1)\n",
    "    X[X.columns[col + 7]] = pd.get_dummies(X[X.columns[col + 7]], dummy_na=True).values.argmax(1)\n",
    "    col = col + 15"
   ]
  },
  {
   "cell_type": "code",
   "execution_count": 23,
   "metadata": {
    "collapsed": true
   },
   "outputs": [],
   "source": [
    "# split to day, month, and year\n",
    "def c_Day(x): return x.split(\"/\")[0]\n",
    "def c_Month(x): return x.split(\"/\")[1]\n",
    "def c_Year(x): return x.split(\"/\")[2]\n",
    "def c_Weekday(x):\n",
    "    d = datetime.datetime(year = int(c_Year(x)), month = int(c_Month(x)), day = int(c_Day(x)))\n",
    "    return d.weekday()\n",
    "def c_Season(x):\n",
    "    month = int(c_Month(x))\n",
    "    day = int(c_Day(x))\n",
    "    if (month in [1,2]):\n",
    "        return 3 # \"winter\"\n",
    "    else:\n",
    "        if (month in [4,5]):\n",
    "            return 0 # \"spring\"\n",
    "        else:\n",
    "            if (month in [7,8]):\n",
    "                return 1 # \"summer\"\n",
    "            else:\n",
    "                if (month in [10,11]):\n",
    "                    return 2 # \"autumn\"\n",
    "                else:\n",
    "                    if (month == 3):\n",
    "                        if (day <= 21):\n",
    "                            return 3 # \"winter\"\n",
    "                        else:\n",
    "                            return 0 # \"spring\"\n",
    "                    else:\n",
    "                        if (month == 6):\n",
    "                            if (day <= 21):\n",
    "                                return 0 # \"spring\"\n",
    "                            else:\n",
    "                                return 1 # \"summer\"\n",
    "                        else:\n",
    "                            if (month == 9):\n",
    "                                if (day <= 21):\n",
    "                                    return 1 # \"summer\"\n",
    "                                else:\n",
    "                                    return 2 # \"autumn\"\n",
    "                            else:\n",
    "                                if (month == 12):\n",
    "                                    if (day <= 21):\n",
    "                                        return 2 # \"autumn\"\n",
    "                                    else:\n",
    "                                        return 3 # \"winter\"\n",
    "    return -1"
   ]
  },
  {
   "cell_type": "code",
   "execution_count": 24,
   "metadata": {
    "collapsed": false
   },
   "outputs": [
    {
     "data": {
      "text/html": [
       "<div>\n",
       "<table border=\"1\" class=\"dataframe\">\n",
       "  <thead>\n",
       "    <tr style=\"text-align: right;\">\n",
       "      <th></th>\n",
       "      <th>Grant.Application.ID</th>\n",
       "      <th>Sponsor.Code</th>\n",
       "      <th>Grant.Category.Code</th>\n",
       "      <th>Contract.Value.Band...see.note.A</th>\n",
       "      <th>RFCD.Code.1</th>\n",
       "      <th>RFCD.Percentage.1</th>\n",
       "      <th>RFCD.Code.2</th>\n",
       "      <th>RFCD.Percentage.2</th>\n",
       "      <th>RFCD.Code.3</th>\n",
       "      <th>RFCD.Percentage.3</th>\n",
       "      <th>...</th>\n",
       "      <th>A..15</th>\n",
       "      <th>A.15</th>\n",
       "      <th>B.15</th>\n",
       "      <th>C.15</th>\n",
       "      <th>Unnamed: 251</th>\n",
       "      <th>Start.day</th>\n",
       "      <th>Start.month</th>\n",
       "      <th>Start.year</th>\n",
       "      <th>Start.weekday</th>\n",
       "      <th>Start.season</th>\n",
       "    </tr>\n",
       "  </thead>\n",
       "  <tbody>\n",
       "    <tr>\n",
       "      <th>0</th>\n",
       "      <td>1</td>\n",
       "      <td>297</td>\n",
       "      <td>13</td>\n",
       "      <td>0</td>\n",
       "      <td>165</td>\n",
       "      <td>23</td>\n",
       "      <td>0</td>\n",
       "      <td>0</td>\n",
       "      <td>0</td>\n",
       "      <td>0</td>\n",
       "      <td>...</td>\n",
       "      <td>NaN</td>\n",
       "      <td>NaN</td>\n",
       "      <td>NaN</td>\n",
       "      <td>NaN</td>\n",
       "      <td>NaN</td>\n",
       "      <td>8</td>\n",
       "      <td>11</td>\n",
       "      <td>05</td>\n",
       "      <td>1</td>\n",
       "      <td>2</td>\n",
       "    </tr>\n",
       "    <tr>\n",
       "      <th>1</th>\n",
       "      <td>2</td>\n",
       "      <td>187</td>\n",
       "      <td>0</td>\n",
       "      <td>1</td>\n",
       "      <td>156</td>\n",
       "      <td>5</td>\n",
       "      <td>167</td>\n",
       "      <td>8</td>\n",
       "      <td>157</td>\n",
       "      <td>14</td>\n",
       "      <td>...</td>\n",
       "      <td>NaN</td>\n",
       "      <td>NaN</td>\n",
       "      <td>NaN</td>\n",
       "      <td>NaN</td>\n",
       "      <td>NaN</td>\n",
       "      <td>11</td>\n",
       "      <td>11</td>\n",
       "      <td>05</td>\n",
       "      <td>4</td>\n",
       "      <td>2</td>\n",
       "    </tr>\n",
       "    <tr>\n",
       "      <th>2</th>\n",
       "      <td>3</td>\n",
       "      <td>186</td>\n",
       "      <td>1</td>\n",
       "      <td>0</td>\n",
       "      <td>359</td>\n",
       "      <td>16</td>\n",
       "      <td>412</td>\n",
       "      <td>14</td>\n",
       "      <td>0</td>\n",
       "      <td>0</td>\n",
       "      <td>...</td>\n",
       "      <td>NaN</td>\n",
       "      <td>NaN</td>\n",
       "      <td>NaN</td>\n",
       "      <td>NaN</td>\n",
       "      <td>NaN</td>\n",
       "      <td>14</td>\n",
       "      <td>11</td>\n",
       "      <td>05</td>\n",
       "      <td>0</td>\n",
       "      <td>2</td>\n",
       "    </tr>\n",
       "    <tr>\n",
       "      <th>3</th>\n",
       "      <td>4</td>\n",
       "      <td>236</td>\n",
       "      <td>1</td>\n",
       "      <td>2</td>\n",
       "      <td>133</td>\n",
       "      <td>13</td>\n",
       "      <td>346</td>\n",
       "      <td>17</td>\n",
       "      <td>0</td>\n",
       "      <td>0</td>\n",
       "      <td>...</td>\n",
       "      <td>NaN</td>\n",
       "      <td>NaN</td>\n",
       "      <td>NaN</td>\n",
       "      <td>NaN</td>\n",
       "      <td>NaN</td>\n",
       "      <td>15</td>\n",
       "      <td>11</td>\n",
       "      <td>05</td>\n",
       "      <td>1</td>\n",
       "      <td>2</td>\n",
       "    </tr>\n",
       "    <tr>\n",
       "      <th>4</th>\n",
       "      <td>5</td>\n",
       "      <td>263</td>\n",
       "      <td>0</td>\n",
       "      <td>0</td>\n",
       "      <td>86</td>\n",
       "      <td>8</td>\n",
       "      <td>161</td>\n",
       "      <td>10</td>\n",
       "      <td>177</td>\n",
       "      <td>10</td>\n",
       "      <td>...</td>\n",
       "      <td>NaN</td>\n",
       "      <td>NaN</td>\n",
       "      <td>NaN</td>\n",
       "      <td>NaN</td>\n",
       "      <td>NaN</td>\n",
       "      <td>16</td>\n",
       "      <td>11</td>\n",
       "      <td>05</td>\n",
       "      <td>2</td>\n",
       "      <td>2</td>\n",
       "    </tr>\n",
       "    <tr>\n",
       "      <th>5</th>\n",
       "      <td>6</td>\n",
       "      <td>255</td>\n",
       "      <td>0</td>\n",
       "      <td>16</td>\n",
       "      <td>396</td>\n",
       "      <td>23</td>\n",
       "      <td>0</td>\n",
       "      <td>0</td>\n",
       "      <td>0</td>\n",
       "      <td>0</td>\n",
       "      <td>...</td>\n",
       "      <td>NaN</td>\n",
       "      <td>NaN</td>\n",
       "      <td>NaN</td>\n",
       "      <td>NaN</td>\n",
       "      <td>NaN</td>\n",
       "      <td>19</td>\n",
       "      <td>11</td>\n",
       "      <td>05</td>\n",
       "      <td>5</td>\n",
       "      <td>2</td>\n",
       "    </tr>\n",
       "    <tr>\n",
       "      <th>6</th>\n",
       "      <td>7</td>\n",
       "      <td>187</td>\n",
       "      <td>0</td>\n",
       "      <td>16</td>\n",
       "      <td>143</td>\n",
       "      <td>13</td>\n",
       "      <td>113</td>\n",
       "      <td>8</td>\n",
       "      <td>116</td>\n",
       "      <td>6</td>\n",
       "      <td>...</td>\n",
       "      <td>NaN</td>\n",
       "      <td>NaN</td>\n",
       "      <td>NaN</td>\n",
       "      <td>NaN</td>\n",
       "      <td>NaN</td>\n",
       "      <td>19</td>\n",
       "      <td>11</td>\n",
       "      <td>05</td>\n",
       "      <td>5</td>\n",
       "      <td>2</td>\n",
       "    </tr>\n",
       "    <tr>\n",
       "      <th>7</th>\n",
       "      <td>8</td>\n",
       "      <td>177</td>\n",
       "      <td>5</td>\n",
       "      <td>0</td>\n",
       "      <td>416</td>\n",
       "      <td>23</td>\n",
       "      <td>0</td>\n",
       "      <td>0</td>\n",
       "      <td>0</td>\n",
       "      <td>0</td>\n",
       "      <td>...</td>\n",
       "      <td>NaN</td>\n",
       "      <td>NaN</td>\n",
       "      <td>NaN</td>\n",
       "      <td>NaN</td>\n",
       "      <td>NaN</td>\n",
       "      <td>19</td>\n",
       "      <td>11</td>\n",
       "      <td>05</td>\n",
       "      <td>5</td>\n",
       "      <td>2</td>\n",
       "    </tr>\n",
       "    <tr>\n",
       "      <th>8</th>\n",
       "      <td>9</td>\n",
       "      <td>187</td>\n",
       "      <td>0</td>\n",
       "      <td>7</td>\n",
       "      <td>76</td>\n",
       "      <td>13</td>\n",
       "      <td>80</td>\n",
       "      <td>17</td>\n",
       "      <td>0</td>\n",
       "      <td>0</td>\n",
       "      <td>...</td>\n",
       "      <td>NaN</td>\n",
       "      <td>NaN</td>\n",
       "      <td>NaN</td>\n",
       "      <td>NaN</td>\n",
       "      <td>NaN</td>\n",
       "      <td>19</td>\n",
       "      <td>11</td>\n",
       "      <td>05</td>\n",
       "      <td>5</td>\n",
       "      <td>2</td>\n",
       "    </tr>\n",
       "    <tr>\n",
       "      <th>9</th>\n",
       "      <td>10</td>\n",
       "      <td>187</td>\n",
       "      <td>0</td>\n",
       "      <td>16</td>\n",
       "      <td>143</td>\n",
       "      <td>10</td>\n",
       "      <td>146</td>\n",
       "      <td>8</td>\n",
       "      <td>101</td>\n",
       "      <td>9</td>\n",
       "      <td>...</td>\n",
       "      <td>NaN</td>\n",
       "      <td>NaN</td>\n",
       "      <td>NaN</td>\n",
       "      <td>NaN</td>\n",
       "      <td>NaN</td>\n",
       "      <td>19</td>\n",
       "      <td>11</td>\n",
       "      <td>05</td>\n",
       "      <td>5</td>\n",
       "      <td>2</td>\n",
       "    </tr>\n",
       "  </tbody>\n",
       "</table>\n",
       "<p>10 rows × 255 columns</p>\n",
       "</div>"
      ],
      "text/plain": [
       "   Grant.Application.ID  Sponsor.Code  Grant.Category.Code  \\\n",
       "0                     1           297                   13   \n",
       "1                     2           187                    0   \n",
       "2                     3           186                    1   \n",
       "3                     4           236                    1   \n",
       "4                     5           263                    0   \n",
       "5                     6           255                    0   \n",
       "6                     7           187                    0   \n",
       "7                     8           177                    5   \n",
       "8                     9           187                    0   \n",
       "9                    10           187                    0   \n",
       "\n",
       "   Contract.Value.Band...see.note.A  RFCD.Code.1  RFCD.Percentage.1  \\\n",
       "0                                 0          165                 23   \n",
       "1                                 1          156                  5   \n",
       "2                                 0          359                 16   \n",
       "3                                 2          133                 13   \n",
       "4                                 0           86                  8   \n",
       "5                                16          396                 23   \n",
       "6                                16          143                 13   \n",
       "7                                 0          416                 23   \n",
       "8                                 7           76                 13   \n",
       "9                                16          143                 10   \n",
       "\n",
       "   RFCD.Code.2  RFCD.Percentage.2  RFCD.Code.3  RFCD.Percentage.3  \\\n",
       "0            0                  0            0                  0   \n",
       "1          167                  8          157                 14   \n",
       "2          412                 14            0                  0   \n",
       "3          346                 17            0                  0   \n",
       "4          161                 10          177                 10   \n",
       "5            0                  0            0                  0   \n",
       "6          113                  8          116                  6   \n",
       "7            0                  0            0                  0   \n",
       "8           80                 17            0                  0   \n",
       "9          146                  8          101                  9   \n",
       "\n",
       "       ...       A..15  A.15  B.15  C.15  Unnamed: 251  Start.day  \\\n",
       "0      ...         NaN   NaN   NaN   NaN           NaN          8   \n",
       "1      ...         NaN   NaN   NaN   NaN           NaN         11   \n",
       "2      ...         NaN   NaN   NaN   NaN           NaN         14   \n",
       "3      ...         NaN   NaN   NaN   NaN           NaN         15   \n",
       "4      ...         NaN   NaN   NaN   NaN           NaN         16   \n",
       "5      ...         NaN   NaN   NaN   NaN           NaN         19   \n",
       "6      ...         NaN   NaN   NaN   NaN           NaN         19   \n",
       "7      ...         NaN   NaN   NaN   NaN           NaN         19   \n",
       "8      ...         NaN   NaN   NaN   NaN           NaN         19   \n",
       "9      ...         NaN   NaN   NaN   NaN           NaN         19   \n",
       "\n",
       "   Start.month  Start.year  Start.weekday  Start.season  \n",
       "0           11          05              1             2  \n",
       "1           11          05              4             2  \n",
       "2           11          05              0             2  \n",
       "3           11          05              1             2  \n",
       "4           11          05              2             2  \n",
       "5           11          05              5             2  \n",
       "6           11          05              5             2  \n",
       "7           11          05              5             2  \n",
       "8           11          05              5             2  \n",
       "9           11          05              5             2  \n",
       "\n",
       "[10 rows x 255 columns]"
      ]
     },
     "execution_count": 24,
     "metadata": {},
     "output_type": "execute_result"
    }
   ],
   "source": [
    "# assigning the split results to data columns\n",
    "X['Start.day'] = X['Start.date'].apply(c_Day)\n",
    "X['Start.month'] = X['Start.date'].apply(c_Month)\n",
    "X['Start.year'] = X['Start.date'].apply(c_Year)\n",
    "X['Start.weekday'] = X['Start.date'].apply(c_Weekday)\n",
    "X['Start.season'] = X['Start.date'].apply(c_Season)\n",
    "X = X.drop('Start.date', axis=1)\n",
    "#X['Contract.Value.Band...see.note.A'] = X['Contract.Value.Band...see.note.A'].str.strip()\n",
    "#X['Contract.Value.Band...see.note.A'] = X['Contract.Value.Band...see.note.A'].apply(contract_value)\n",
    "#X['Contract.Value.Band...see.note.A'] = \n",
    "#    X['Contract.Value.Band...see.note.A'].fillna(np.mean(X['Contract.Value.Band...see.note.A']))\n",
    "X.head(10)"
   ]
  },
  {
   "cell_type": "code",
   "execution_count": 25,
   "metadata": {
    "collapsed": false
   },
   "outputs": [],
   "source": [
    "#daria selecting train, validation, and test\n",
    "#select train set \n",
    "X_train = X.loc[~X['Grant.Application.ID'].isin(vali['ids']) & ~X['Grant.Application.ID'].isin(test['ids'])]\n",
    "y_train = y.loc[~X['Grant.Application.ID'].isin(vali['ids']) & ~X['Grant.Application.ID'].isin(test['ids'])]\n",
    "\n",
    "#select validation set \n",
    "X_vali =X.loc[X['Grant.Application.ID'].isin(vali['ids'])]\n",
    "y_vali =y.loc[X['Grant.Application.ID'].isin(vali['ids'])]\n",
    "\n",
    "#select test set for predictions\n",
    "X_test =X.loc[X['Grant.Application.ID'].isin(test['ids'])]\n",
    "y_test =y.loc[X['Grant.Application.ID'].isin(test['ids'])]"
   ]
  },
  {
   "cell_type": "code",
   "execution_count": 42,
   "metadata": {
    "collapsed": false
   },
   "outputs": [
    {
     "data": {
      "text/plain": [
       "Index([u'A..12', u'A.12', u'B.12', u'C.12', u'Person.ID.13', u'Role.13',\n",
       "       u'Year.of.Birth.13', u'Country.of.Birth.13', u'Home.Language.13',\n",
       "       u'Dept.No..13', u'Faculty.No..13', u'With.PHD.13',\n",
       "       u'No..of.Years.in.Uni.at.Time.of.Grant.13',\n",
       "       u'Number.of.Successful.Grant.13', u'Number.of.Unsuccessful.Grant.13',\n",
       "       u'A..13', u'A.13', u'B.13', u'C.13', u'Person.ID.14', u'Role.14',\n",
       "       u'Year.of.Birth.14', u'Country.of.Birth.14', u'Home.Language.14',\n",
       "       u'Dept.No..14', u'Faculty.No..14', u'With.PHD.14',\n",
       "       u'No..of.Years.in.Uni.at.Time.of.Grant.14',\n",
       "       u'Number.of.Successful.Grant.14', u'Number.of.Unsuccessful.Grant.14',\n",
       "       u'A..14', u'A.14', u'B.14', u'C.14', u'Person.ID.15', u'Role.15',\n",
       "       u'Year.of.Birth.15', u'Country.of.Birth.15', u'Home.Language.15',\n",
       "       u'Dept.No..15', u'Faculty.No..15', u'With.PHD.15',\n",
       "       u'No..of.Years.in.Uni.at.Time.of.Grant.15',\n",
       "       u'Number.of.Successful.Grant.15', u'Number.of.Unsuccessful.Grant.15',\n",
       "       u'A..15', u'A.15', u'B.15', u'C.15', u'Unnamed: 251', u'Start.day',\n",
       "       u'Start.month', u'Start.year', u'Start.weekday', u'Start.season'],\n",
       "      dtype='object')"
      ]
     },
     "execution_count": 42,
     "metadata": {},
     "output_type": "execute_result"
    }
   ],
   "source": [
    "imp = Imputer(missing_values='NaN', strategy='mean', axis=0)\n",
    "imp.fit(X.values)\n",
    "X_train = imp.transform(X_train)\n",
    "X_vali = imp.transform(X_vali)\n",
    "X_test = imp.transform(X_test)\n",
    "X.columns[200:256]"
   ]
  },
  {
   "cell_type": "code",
   "execution_count": 33,
   "metadata": {
    "collapsed": false
   },
   "outputs": [
    {
     "data": {
      "text/plain": [
       "(6633, 242)"
      ]
     },
     "metadata": {},
     "output_type": "display_data"
    },
    {
     "data": {
      "text/plain": [
       "(6633,)"
      ]
     },
     "metadata": {},
     "output_type": "display_data"
    },
    {
     "data": {
      "text/plain": [
       "(518, 242)"
      ]
     },
     "metadata": {},
     "output_type": "display_data"
    },
    {
     "data": {
      "text/plain": [
       "(518,)"
      ]
     },
     "metadata": {},
     "output_type": "display_data"
    },
    {
     "data": {
      "text/plain": [
       "(1557, 242)"
      ]
     },
     "metadata": {},
     "output_type": "display_data"
    },
    {
     "data": {
      "text/plain": [
       "(1557,)"
      ]
     },
     "metadata": {},
     "output_type": "display_data"
    }
   ],
   "source": [
    "#Daria check no of lines\n",
    "display(X_train.shape)\n",
    "display(y_train.shape)\n",
    "display(X_vali.shape)\n",
    "display(y_vali.shape)\n",
    "display(X_test.shape)\n",
    "display(y_test.shape)\n",
    "#X_train.shape[0] + X_vali.shape[0] + X_test.shape[0]"
   ]
  },
  {
   "cell_type": "code",
   "execution_count": 34,
   "metadata": {
    "collapsed": false
   },
   "outputs": [
    {
     "name": "stdout",
     "output_type": "stream",
     "text": [
      "0.866795366795\n"
     ]
    }
   ],
   "source": [
    "rfc = RandomForestClassifier(max_depth=200, n_estimators=1250)\n",
    "rfc.fit(X_train, y_train)\n",
    "s = rfc.score(X_vali, y_vali)\n",
    "print(s)"
   ]
  },
  {
   "cell_type": "code",
   "execution_count": 35,
   "metadata": {
    "collapsed": false
   },
   "outputs": [
    {
     "name": "stdout",
     "output_type": "stream",
     "text": [
      "0.858702633269\n"
     ]
    }
   ],
   "source": [
    "print rfc.score(X_test, y_test)"
   ]
  },
  {
   "cell_type": "code",
   "execution_count": 36,
   "metadata": {
    "collapsed": false
   },
   "outputs": [
    {
     "name": "stdout",
     "output_type": "stream",
     "text": [
      "Feature ranking:\n",
      "1. feature 34 (0.104588)\n",
      "2. feature 3 (0.102072)\n",
      "3. feature 33 (0.053588)\n",
      "4. feature 2 (0.051986)\n",
      "5. feature 0 (0.048139)\n",
      "6. feature 1 (0.047072)\n",
      "7. feature 238 (0.034949)\n",
      "8. feature 237 (0.034478)\n",
      "9. feature 240 (0.024257)\n",
      "10. feature 4 (0.023656)\n",
      "11. feature 14 (0.022801)\n",
      "12. feature 29 (0.022266)\n",
      "13. feature 24 (0.021810)\n",
      "14. feature 241 (0.019772)\n",
      "15. feature 36 (0.017568)\n",
      "16. feature 37 (0.017546)\n",
      "17. feature 35 (0.017500)\n",
      "18. feature 6 (0.015036)\n",
      "19. feature 16 (0.014847)\n",
      "20. feature 26 (0.014376)\n",
      "21. feature 239 (0.014071)\n",
      "22. feature 38 (0.012983)\n",
      "23. feature 30 (0.012069)\n",
      "24. feature 32 (0.011555)\n",
      "25. feature 5 (0.011033)\n",
      "26. feature 15 (0.010864)\n",
      "27. feature 49 (0.010860)\n",
      "28. feature 7 (0.010490)\n",
      "29. feature 17 (0.010468)\n",
      "30. feature 40 (0.010343)\n"
     ]
    },
    {
     "ename": "ValueError",
     "evalue": "incompatible sizes: argument 'height' must be length 255 or scalar",
     "output_type": "error",
     "traceback": [
      "\u001b[0;31m---------------------------------------------------------------------------\u001b[0m",
      "\u001b[0;31mValueError\u001b[0m                                Traceback (most recent call last)",
      "\u001b[0;32m<ipython-input-36-4afb0d5d1aca>\u001b[0m in \u001b[0;36m<module>\u001b[0;34m()\u001b[0m\n\u001b[1;32m     15\u001b[0m \u001b[0mplt\u001b[0m\u001b[0;34m.\u001b[0m\u001b[0mtitle\u001b[0m\u001b[0;34m(\u001b[0m\u001b[0;34m\"Feature importances\"\u001b[0m\u001b[0;34m)\u001b[0m\u001b[0;34m\u001b[0m\u001b[0m\n\u001b[1;32m     16\u001b[0m plt.bar(range(X.shape[1]), importances[indices],\n\u001b[0;32m---> 17\u001b[0;31m        color=\"r\", yerr=std[indices], align=\"center\")\n\u001b[0m\u001b[1;32m     18\u001b[0m \u001b[0mplt\u001b[0m\u001b[0;34m.\u001b[0m\u001b[0mxticks\u001b[0m\u001b[0;34m(\u001b[0m\u001b[0mrange\u001b[0m\u001b[0;34m(\u001b[0m\u001b[0mX\u001b[0m\u001b[0;34m.\u001b[0m\u001b[0mshape\u001b[0m\u001b[0;34m[\u001b[0m\u001b[0;36m1\u001b[0m\u001b[0;34m]\u001b[0m\u001b[0;34m)\u001b[0m\u001b[0;34m,\u001b[0m \u001b[0mindices\u001b[0m\u001b[0;34m)\u001b[0m\u001b[0;34m\u001b[0m\u001b[0m\n\u001b[1;32m     19\u001b[0m \u001b[0mplt\u001b[0m\u001b[0;34m.\u001b[0m\u001b[0mxlim\u001b[0m\u001b[0;34m(\u001b[0m\u001b[0;34m[\u001b[0m\u001b[0;34m-\u001b[0m\u001b[0;36m1\u001b[0m\u001b[0;34m,\u001b[0m \u001b[0mX\u001b[0m\u001b[0;34m.\u001b[0m\u001b[0mshape\u001b[0m\u001b[0;34m[\u001b[0m\u001b[0;36m1\u001b[0m\u001b[0;34m]\u001b[0m\u001b[0;34m]\u001b[0m\u001b[0;34m)\u001b[0m\u001b[0;34m\u001b[0m\u001b[0m\n",
      "\u001b[0;32m/Users/tvnguyen/Softwares/anaconda2/lib/python2.7/site-packages/matplotlib/pyplot.pyc\u001b[0m in \u001b[0;36mbar\u001b[0;34m(left, height, width, bottom, hold, data, **kwargs)\u001b[0m\n\u001b[1;32m   2641\u001b[0m     \u001b[0;32mtry\u001b[0m\u001b[0;34m:\u001b[0m\u001b[0;34m\u001b[0m\u001b[0m\n\u001b[1;32m   2642\u001b[0m         ret = ax.bar(left, height, width=width, bottom=bottom, data=data,\n\u001b[0;32m-> 2643\u001b[0;31m                      **kwargs)\n\u001b[0m\u001b[1;32m   2644\u001b[0m     \u001b[0;32mfinally\u001b[0m\u001b[0;34m:\u001b[0m\u001b[0;34m\u001b[0m\u001b[0m\n\u001b[1;32m   2645\u001b[0m         \u001b[0max\u001b[0m\u001b[0;34m.\u001b[0m\u001b[0mhold\u001b[0m\u001b[0;34m(\u001b[0m\u001b[0mwashold\u001b[0m\u001b[0;34m)\u001b[0m\u001b[0;34m\u001b[0m\u001b[0m\n",
      "\u001b[0;32m/Users/tvnguyen/Softwares/anaconda2/lib/python2.7/site-packages/matplotlib/__init__.pyc\u001b[0m in \u001b[0;36minner\u001b[0;34m(ax, *args, **kwargs)\u001b[0m\n\u001b[1;32m   1810\u001b[0m                     warnings.warn(msg % (label_namer, func.__name__),\n\u001b[1;32m   1811\u001b[0m                                   RuntimeWarning, stacklevel=2)\n\u001b[0;32m-> 1812\u001b[0;31m             \u001b[0;32mreturn\u001b[0m \u001b[0mfunc\u001b[0m\u001b[0;34m(\u001b[0m\u001b[0max\u001b[0m\u001b[0;34m,\u001b[0m \u001b[0;34m*\u001b[0m\u001b[0margs\u001b[0m\u001b[0;34m,\u001b[0m \u001b[0;34m**\u001b[0m\u001b[0mkwargs\u001b[0m\u001b[0;34m)\u001b[0m\u001b[0;34m\u001b[0m\u001b[0m\n\u001b[0m\u001b[1;32m   1813\u001b[0m         \u001b[0mpre_doc\u001b[0m \u001b[0;34m=\u001b[0m \u001b[0minner\u001b[0m\u001b[0;34m.\u001b[0m\u001b[0m__doc__\u001b[0m\u001b[0;34m\u001b[0m\u001b[0m\n\u001b[1;32m   1814\u001b[0m         \u001b[0;32mif\u001b[0m \u001b[0mpre_doc\u001b[0m \u001b[0;32mis\u001b[0m \u001b[0mNone\u001b[0m\u001b[0;34m:\u001b[0m\u001b[0;34m\u001b[0m\u001b[0m\n",
      "\u001b[0;32m/Users/tvnguyen/Softwares/anaconda2/lib/python2.7/site-packages/matplotlib/axes/_axes.pyc\u001b[0m in \u001b[0;36mbar\u001b[0;34m(self, left, height, width, bottom, **kwargs)\u001b[0m\n\u001b[1;32m   2078\u001b[0m         \u001b[0;32mif\u001b[0m \u001b[0mlen\u001b[0m\u001b[0;34m(\u001b[0m\u001b[0mheight\u001b[0m\u001b[0;34m)\u001b[0m \u001b[0;34m!=\u001b[0m \u001b[0mnbars\u001b[0m\u001b[0;34m:\u001b[0m\u001b[0;34m\u001b[0m\u001b[0m\n\u001b[1;32m   2079\u001b[0m             raise ValueError(\"incompatible sizes: argument 'height' \"\n\u001b[0;32m-> 2080\u001b[0;31m                               \"must be length %d or scalar\" % nbars)\n\u001b[0m\u001b[1;32m   2081\u001b[0m         \u001b[0;32mif\u001b[0m \u001b[0mlen\u001b[0m\u001b[0;34m(\u001b[0m\u001b[0mwidth\u001b[0m\u001b[0;34m)\u001b[0m \u001b[0;34m!=\u001b[0m \u001b[0mnbars\u001b[0m\u001b[0;34m:\u001b[0m\u001b[0;34m\u001b[0m\u001b[0m\n\u001b[1;32m   2082\u001b[0m             raise ValueError(\"incompatible sizes: argument 'width' \"\n",
      "\u001b[0;31mValueError\u001b[0m: incompatible sizes: argument 'height' must be length 255 or scalar"
     ]
    },
    {
     "data": {
      "image/png": "[encoded data removed]",
      "text/plain": [
       "<matplotlib.figure.Figure at 0x103566bd0>"
      ]
     },
     "metadata": {},
     "output_type": "display_data"
    }
   ],
   "source": [
    "forest = rfc\n",
    "importances = forest.feature_importances_\n",
    "std = np.std([tree.feature_importances_ for tree in forest.estimators_], axis=0)\n",
    "indices = np.argsort(importances)[::-1]\n",
    "\n",
    "# Print the feature ranking\n",
    "print(\"Feature ranking:\")\n",
    "\n",
    "#for f in range(X.shape[1]):\n",
    "for f in range(30):\n",
    "    print(\"%d. feature %d (%f)\" % (f + 1, indices[f], importances[indices[f]]))\n",
    "\n",
    "# Plot the feature importances of the forest\n",
    "plt.figure()\n",
    "plt.title(\"Feature importances\")\n",
    "plt.bar(range(X.shape[1]), importances[indices],\n",
    "       color=\"r\", yerr=std[indices], align=\"center\")\n",
    "plt.xticks(range(X.shape[1]), indices)\n",
    "plt.xlim([-1, X.shape[1]])\n",
    "plt.show()"
   ]
  },
  {
   "cell_type": "code",
   "execution_count": 122,
   "metadata": {
    "collapsed": false
   },
   "outputs": [],
   "source": [
    "X1_train = X_train[X.columns[0:54]]\n",
    "X1_vali = X_vali[X.columns[0:54]]\n",
    "X1_test = X_test[X.columns[0:54]]"
   ]
  },
  {
   "cell_type": "code",
   "execution_count": 42,
   "metadata": {
    "collapsed": false
   },
   "outputs": [
    {
     "ename": "NameError",
     "evalue": "name 'X1_train' is not defined",
     "output_type": "error",
     "traceback": [
      "\u001b[0;31m---------------------------------------------------------------------------\u001b[0m",
      "\u001b[0;31mNameError\u001b[0m                                 Traceback (most recent call last)",
      "\u001b[0;32m<ipython-input-42-abb71a3adc69>\u001b[0m in \u001b[0;36m<module>\u001b[0;34m()\u001b[0m\n\u001b[1;32m      1\u001b[0m \u001b[0mrfc\u001b[0m \u001b[0;34m=\u001b[0m \u001b[0mRandomForestClassifier\u001b[0m\u001b[0;34m(\u001b[0m\u001b[0mmax_depth\u001b[0m\u001b[0;34m=\u001b[0m\u001b[0;36m3\u001b[0m\u001b[0;34m,\u001b[0m \u001b[0mn_estimators\u001b[0m\u001b[0;34m=\u001b[0m\u001b[0;36m1250\u001b[0m\u001b[0;34m)\u001b[0m\u001b[0;34m\u001b[0m\u001b[0m\n\u001b[0;32m----> 2\u001b[0;31m \u001b[0mrfc\u001b[0m\u001b[0;34m.\u001b[0m\u001b[0mfit\u001b[0m\u001b[0;34m(\u001b[0m\u001b[0mX1_train\u001b[0m\u001b[0;34m,\u001b[0m \u001b[0my_train\u001b[0m\u001b[0;34m)\u001b[0m\u001b[0;34m\u001b[0m\u001b[0m\n\u001b[0m\u001b[1;32m      3\u001b[0m \u001b[0ms\u001b[0m \u001b[0;34m=\u001b[0m \u001b[0mrfc\u001b[0m\u001b[0;34m.\u001b[0m\u001b[0mscore\u001b[0m\u001b[0;34m(\u001b[0m\u001b[0mX1_vali\u001b[0m\u001b[0;34m,\u001b[0m \u001b[0my_vali\u001b[0m\u001b[0;34m)\u001b[0m\u001b[0;34m\u001b[0m\u001b[0m\n\u001b[1;32m      4\u001b[0m \u001b[0;32mprint\u001b[0m\u001b[0;34m(\u001b[0m\u001b[0ms\u001b[0m\u001b[0;34m)\u001b[0m\u001b[0;34m\u001b[0m\u001b[0m\n",
      "\u001b[0;31mNameError\u001b[0m: name 'X1_train' is not defined"
     ]
    }
   ],
   "source": [
    "rfc = RandomForestClassifier(max_depth=50, n_estimators=250)\n",
    "rfc.fit(X1_train, y_train)\n",
    "s = rfc.score(X1_vali, y_vali)\n",
    "print(s)"
   ]
  },
  {
   "cell_type": "code",
   "execution_count": 155,
   "metadata": {
    "collapsed": false
   },
   "outputs": [
    {
     "name": "stdout",
     "output_type": "stream",
     "text": [
      "0.850353243417\n"
     ]
    }
   ],
   "source": [
    "print rfc.score(X1_test, y_test)"
   ]
  },
  {
   "cell_type": "code",
   "execution_count": 28,
   "metadata": {
    "collapsed": false
   },
   "outputs": [],
   "source": [
    "#normalize\n",
    "#X['Contract.Value.Band...see.note.A'] = preprocessing.normalize(X, norm='l2')\n",
    "X1_train = preprocessing.normalize(X_train, norm='l2')\n",
    "X1_vali = preprocessing.normalize(X_vali, norm='l2')\n",
    "X1_test = preprocessing.normalize(X_test, norm='l2')"
   ]
  },
  {
   "cell_type": "code",
   "execution_count": 30,
   "metadata": {
    "collapsed": false
   },
   "outputs": [
    {
     "name": "stdout",
     "output_type": "stream",
     "text": [
      "0.84749034749\n"
     ]
    }
   ],
   "source": [
    "rfc = RandomForestClassifier(max_depth=200, n_estimators=1250)\n",
    "rfc.fit(X1_train, y_train)\n",
    "s = rfc.score(X1_vali, y_vali)\n",
    "print(s)"
   ]
  },
  {
   "cell_type": "code",
   "execution_count": 52,
   "metadata": {
    "collapsed": false
   },
   "outputs": [
    {
     "name": "stdout",
     "output_type": "stream",
     "text": [
      "0.858702633269\n"
     ]
    }
   ],
   "source": [
    "print rfc.score(X1_test, y_test)"
   ]
  },
  {
   "cell_type": "code",
   "execution_count": 15,
   "metadata": {
    "collapsed": false
   },
   "outputs": [
    {
     "name": "stdout",
     "output_type": "stream",
     "text": [
      "ROC AUC: 0.934066\n"
     ]
    },
    {
     "data": {
      "image/png": "[encoded data removed]",
      "text/plain": [
       "<matplotlib.figure.Figure at 0x113b0e4d0>"
      ]
     },
     "metadata": {},
     "output_type": "display_data"
    }
   ],
   "source": [
    "# Determine the false positive and true positive rates\n",
    "fpr, tpr, _ = roc_curve(y_test, rfc.predict_proba(X_test)[:,1])\n",
    "\n",
    "# Calculate the AUC\n",
    "roc_auc = auc(fpr, tpr)\n",
    "print 'ROC AUC: %0.6f' % roc_auc\n",
    "\n",
    "# Plot of a ROC curve for a specific class\n",
    "plt.figure()\n",
    "plt.plot(fpr, tpr, label='ROC curve (area = %0.2f)' % roc_auc)\n",
    "plt.plot([0, 1], [0, 1], 'k--')\n",
    "plt.xlim([0.0, 1.0])\n",
    "plt.ylim([0.0, 1.05])\n",
    "plt.xlabel('False Positive Rate')\n",
    "plt.ylabel('True Positive Rate')\n",
    "plt.title('ROC Curve')\n",
    "plt.legend(loc=\"lower right\")\n",
    "plt.show()"
   ]
  },
  {
   "cell_type": "code",
   "execution_count": 51,
   "metadata": {
    "collapsed": false
   },
   "outputs": [
    {
     "data": {
      "text/plain": [
       "0.93366339018651612"
      ]
     },
     "execution_count": 51,
     "metadata": {},
     "output_type": "execute_result"
    }
   ],
   "source": [
    "mean_auc"
   ]
  },
  {
   "cell_type": "code",
   "execution_count": 16,
   "metadata": {
    "collapsed": false
   },
   "outputs": [
    {
     "name": "stdout",
     "output_type": "stream",
     "text": [
      "Accuracy: 0.8491\n",
      "Cross-validation score: [ 1.39251781  1.38488244  1.37694686 ...,  0.78800368  0.78785833\n",
      "  0.78775585]\n",
      "Heldout score: [ 1.36427282  1.35535919  1.34656286 ...,  0.65445619  0.65464136\n",
      "  0.65464827]\n"
     ]
    }
   ],
   "source": [
    "# Fit classifier with out-of-bag estimates\n",
    "params = {'n_estimators': 1200, 'max_depth': 3, 'subsample': 0.5,\n",
    "          'learning_rate': 0.01, 'min_samples_leaf': 1, 'random_state': 3}\n",
    "clf = ensemble.GradientBoostingClassifier(**params)\n",
    "\n",
    "clf.fit(X_train, y_train)\n",
    "acc = clf.score(X_test, y_test)\n",
    "print(\"Accuracy: {:.4f}\".format(acc))\n",
    "\n",
    "n_estimators = params['n_estimators']\n",
    "x = np.arange(n_estimators) + 1\n",
    "\n",
    "\n",
    "def heldout_score(clf, X_test, y_test):\n",
    "    \"\"\"compute deviance scores on ``X_test`` and ``y_test``. \"\"\"\n",
    "    score = np.zeros((n_estimators,), dtype=np.float64)\n",
    "    for i, y_pred in enumerate(clf.staged_decision_function(X_test)):\n",
    "        score[i] = clf.loss_(y_test, y_pred)\n",
    "    return score\n",
    "\n",
    "\n",
    "def cv_estimate(n_folds=3):\n",
    "    cv = KFold(n=X_train.shape[0], n_folds=n_folds)\n",
    "    cv_clf = ensemble.GradientBoostingClassifier(**params)\n",
    "    val_scores = np.zeros((n_estimators,), dtype=np.float64)\n",
    "    for train, test in cv:\n",
    "        cv_clf.fit(X_train[train], y_train[train])\n",
    "        val_scores += heldout_score(cv_clf, X_train[test], y_train[test])\n",
    "    val_scores /= n_folds\n",
    "    return val_scores\n",
    "\n",
    "\n",
    "# Estimate best n_estimator using cross-validation\n",
    "cv_score = cv_estimate(3)\n",
    "print(\"Cross-validation score: \" + str(cv_score))\n",
    "\n",
    "# Compute best n_estimator for test data\n",
    "test_score = heldout_score(clf, X_test, y_test)\n",
    "print(\"Heldout score: \" + str(test_score))"
   ]
  },
  {
   "cell_type": "code",
   "execution_count": 17,
   "metadata": {
    "collapsed": false
   },
   "outputs": [
    {
     "name": "stdout",
     "output_type": "stream",
     "text": [
      "ROC AUC: 0.940771\n"
     ]
    },
    {
     "data": {
      "image/png": "[encoded data removed]",
      "text/plain": [
       "<matplotlib.figure.Figure at 0x139d96d50>"
      ]
     },
     "metadata": {},
     "output_type": "display_data"
    }
   ],
   "source": [
    "# Determine the false positive and true positive rates\n",
    "fpr, tpr, _ = roc_curve(y_test, clf.predict_proba(X_test)[:,1])\n",
    "\n",
    "# Calculate the AUC\n",
    "roc_auc = auc(fpr, tpr)\n",
    "print 'ROC AUC: %0.6f' % roc_auc\n",
    "\n",
    "# Plot of a ROC curve for a specific class\n",
    "plt.figure()\n",
    "plt.plot(fpr, tpr, label='ROC curve (area = %0.2f)' % roc_auc)\n",
    "plt.plot([0, 1], [0, 1], 'k--')\n",
    "plt.xlim([0.0, 1.0])\n",
    "plt.ylim([0.0, 1.05])\n",
    "plt.xlabel('False Positive Rate')\n",
    "plt.ylabel('True Positive Rate')\n",
    "plt.title('ROC Curve')\n",
    "plt.legend(loc=\"lower right\")\n",
    "plt.show()"
   ]
  },
  {
   "cell_type": "code",
   "execution_count": 16,
   "metadata": {
    "collapsed": false
   },
   "outputs": [],
   "source": [
    "names = [\"Nearest Neighbors\", \"Decision Tree\", \"AdaBoost\", \"Naive Bayes\", \n",
    "         \"Random Forest\", \"Lin Discr Analysis\", \"Quad Discr Analysis\"]\n",
    "classifiers = [\n",
    "    KNeighborsClassifier(3),\n",
    "    DecisionTreeClassifier(max_depth=5),\n",
    "    AdaBoostClassifier(),\n",
    "    GaussianNB(),\n",
    "    RandomForestClassifier(max_depth=200, n_estimators=1250),\n",
    "    LinearDiscriminantAnalysis(),\n",
    "    QuadraticDiscriminantAnalysis()]\n",
    "\n",
    "# iterate over classifiers\n",
    "for name, clf in zip(names, classifiers):\n",
    "    clf.fit(X_train, y_train)\n",
    "    score = clf.score(X_test, y_test)\n",
    "    print name + \": \" + str(score)"
   ]
  },
  {
   "cell_type": "code",
   "execution_count": 16,
   "metadata": {
    "collapsed": false
   },
   "outputs": [],
   "source": [
    "X1_train=[] \n",
    "for i in range(0, X_train.shape[0]):\n",
    "      X1_train.append(list(X_train[i]))\n",
    "        \n",
    "X1_vali=[] \n",
    "for i in range(0, X_vali.shape[0]):\n",
    "      X1_vali.append(list(X_vali[i]))\n",
    "        \n",
    "X1_test=[] \n",
    "for i in range(0, X_test.shape[0]):\n",
    "      X1_test.append(list(X_test[i]))\n",
    "\n",
    "y1_train = y_train.replace(0, -1, inplace=False)\n",
    "y1_vali = y_vali.replace(0, -1, inplace=False)\n",
    "y1_test = y_test.replace(0, -1, inplace=False)"
   ]
  },
  {
   "cell_type": "code",
   "execution_count": 17,
   "metadata": {
    "collapsed": false,
    "scrolled": true
   },
   "outputs": [],
   "source": [
    "dump_svmlight_file(X1_train, y1_train, \"train.t\", zero_based=False)\n",
    "dump_svmlight_file(X1_vali, y1_vali, \"validation.t\", zero_based=False)\n",
    "dump_svmlight_file(X1_test, y1_test, \"test.t\", zero_based=False)"
   ]
  },
  {
   "cell_type": "code",
   "execution_count": 50,
   "metadata": {
    "collapsed": false
   },
   "outputs": [],
   "source": [
    "prob  = svm_problem(y_train, X1_train)\n",
    "# param = svm_parameter('-s 0 -c 0.01 -t 1 -d 3')\n",
    "# param = svm_parameter('-s 0 -c 0.025')\n",
    "# param = svm_parameter('-c 0.01 -g 2')\n",
    "# param = svm_parameter('-s 1')\n",
    "param = svm_parameter('-s 0 -c 0.0001')\n",
    "m = svm_train(prob, param)"
   ]
  },
  {
   "cell_type": "code",
   "execution_count": 51,
   "metadata": {
    "collapsed": false
   },
   "outputs": [
    {
     "name": "stdout",
     "output_type": "stream",
     "text": [
      "Accuracy = 63.3911% (987/1557) (classification)\n"
     ]
    }
   ],
   "source": [
    "p_label, p_acc, p_val = svm_predict(y_test, X1_test, m)"
   ]
  },
  {
   "cell_type": "code",
   "execution_count": 24,
   "metadata": {
    "collapsed": false
   },
   "outputs": [
    {
     "name": "stdout",
     "output_type": "stream",
     "text": [
      "Classification report:\n",
      "\n",
      "             precision    recall  f1-score   support\n",
      "\n",
      "          0       0.91      0.86      0.88       987\n",
      "          1       0.78      0.84      0.81       570\n",
      "\n",
      "avg / total       0.86      0.85      0.86      1557\n",
      "\n",
      "\n",
      "Confusion matrix\n",
      "[[849 138]\n",
      " [ 89 481]]\n"
     ]
    }
   ],
   "source": [
    "y_label = rfc.predict(X_test)\n",
    "print \"Classification report:\"\n",
    "print\n",
    "print metrics.classification_report(y_test, y_label)\n",
    "print\n",
    "print \"Confusion matrix\"\n",
    "print metrics.confusion_matrix(y_test, y_label)"
   ]
  },
  {
   "cell_type": "code",
   "execution_count": 25,
   "metadata": {
    "collapsed": false
   },
   "outputs": [
    {
     "name": "stdout",
     "output_type": "stream",
     "text": [
      "Classification report:\n",
      "\n",
      "             precision    recall  f1-score   support\n",
      "\n",
      "          0       0.95      0.80      0.87       987\n",
      "          1       0.73      0.93      0.82       570\n",
      "\n",
      "avg / total       0.87      0.85      0.85      1557\n",
      "\n",
      "\n",
      "Confusion matrix\n",
      "[[793 194]\n",
      " [ 41 529]]\n"
     ]
    }
   ],
   "source": [
    "y_label = clf.predict(X_test)\n",
    "print \"Classification report:\"\n",
    "print\n",
    "print metrics.classification_report(y_test, y_label)\n",
    "print\n",
    "print \"Confusion matrix\"\n",
    "print metrics.confusion_matrix(y_test, y_label)"
   ]
  },
  {
   "cell_type": "code",
   "execution_count": 45,
   "metadata": {
    "collapsed": false
   },
   "outputs": [
    {
     "name": "stdout",
     "output_type": "stream",
     "text": [
      "3233\n",
      "3400\n"
     ]
    }
   ],
   "source": [
    "print len(y_train[y_train == 1])\n",
    "print len(y_train[y_train == 0])"
   ]
  },
  {
   "cell_type": "code",
   "execution_count": null,
   "metadata": {
    "collapsed": true
   },
   "outputs": [],
   "source": []
  }
 ],
 "metadata": {
  "kernelspec": {
   "display_name": "Python 2",
   "language": "python",
   "name": "python2"
  },
  "language_info": {
   "codemirror_mode": {
    "name": "ipython",
    "version": 2
   },
   "file_extension": ".py",
   "mimetype": "text/x-python",
   "name": "python",
   "nbconvert_exporter": "python",
   "pygments_lexer": "ipython2",
   "version": "2.7.10"
  }
 },
 "nbformat": 4,
 "nbformat_minor": 0
}
