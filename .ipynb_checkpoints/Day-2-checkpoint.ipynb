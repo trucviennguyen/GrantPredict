{
 "cells": [
  {
   "cell_type": "code",
   "execution_count": 1,
   "metadata": {
    "collapsed": false
   },
   "outputs": [
    {
     "name": "stderr",
     "output_type": "stream",
     "text": [
      "/Users/tvnguyen/Softwares/anaconda2/lib/python2.7/site-packages/matplotlib/font_manager.py:273: UserWarning: Matplotlib is building the font cache using fc-list. This may take a moment.\n",
      "  warnings.warn('Matplotlib is building the font cache using fc-list. This may take a moment.')\n"
     ]
    }
   ],
   "source": [
    "import numpy as np\n",
    "import pandas as pd\n",
    "import matplotlib.pyplot as plt\n",
    "\n",
    "from collections import OrderedDict\n",
    "from IPython.display import display\n",
    "from scipy import interp\n",
    "from matplotlib.colors import ListedColormap\n",
    "\n",
    "from sklearn.svm import LinearSVC, SVC\n",
    "from sklearn import ensemble, datasets, metrics, preprocessing, svm\n",
    "from sklearn.cross_validation import KFold, StratifiedKFold\n",
    "from sklearn.datasets import dump_svmlight_file\n",
    "from sklearn.datasets import make_classification\n",
    "from sklearn.discriminant_analysis import LinearDiscriminantAnalysis, QuadraticDiscriminantAnalysis\n",
    "from sklearn.ensemble import AdaBoostClassifier, RandomForestClassifier\n",
    "from sklearn.metrics import auc, mean_squared_error, roc_curve\n",
    "from sklearn.multiclass import OneVsRestClassifier\n",
    "from sklearn.naive_bayes import GaussianNB\n",
    "from sklearn.neighbors import KNeighborsClassifier\n",
    "from sklearn.preprocessing import Imputer, StandardScaler\n",
    "from sklearn.tree import DecisionTreeClassifier\n",
    "import svmlight\n",
    "from svmutil import *\n",
    "\n",
    "import datetime\n",
    "\n",
    "%matplotlib inline"
   ]
  },
  {
   "cell_type": "code",
   "execution_count": 2,
   "metadata": {
    "collapsed": false
   },
   "outputs": [
    {
     "name": "stderr",
     "output_type": "stream",
     "text": [
      "/Users/tvnguyen/Softwares/anaconda2/lib/python2.7/site-packages/IPython/core/interactiveshell.py:2723: DtypeWarning: Columns (90,105,119,120,123,124,132,134,135,138,139,147,149,150,153,154,162,164,165,168,169,177,179,183,184,192,194,198,199,207,209,213,214,224,237,239,244) have mixed types. Specify dtype option on import or set low_memory=False.\n",
      "  interactivity=interactivity, compiler=compiler, result=result)\n"
     ]
    },
    {
     "data": {
      "text/html": [
       "<div>\n",
       "<table border=\"1\" class=\"dataframe\">\n",
       "  <thead>\n",
       "    <tr style=\"text-align: right;\">\n",
       "      <th></th>\n",
       "      <th>Grant.Application.ID</th>\n",
       "      <th>Grant.Status</th>\n",
       "      <th>Sponsor.Code</th>\n",
       "      <th>Grant.Category.Code</th>\n",
       "      <th>Contract.Value.Band...see.note.A</th>\n",
       "      <th>Start.date</th>\n",
       "      <th>RFCD.Code.1</th>\n",
       "      <th>RFCD.Percentage.1</th>\n",
       "      <th>RFCD.Code.2</th>\n",
       "      <th>RFCD.Percentage.2</th>\n",
       "      <th>...</th>\n",
       "      <th>Faculty.No..15</th>\n",
       "      <th>With.PHD.15</th>\n",
       "      <th>No..of.Years.in.Uni.at.Time.of.Grant.15</th>\n",
       "      <th>Number.of.Successful.Grant.15</th>\n",
       "      <th>Number.of.Unsuccessful.Grant.15</th>\n",
       "      <th>A..15</th>\n",
       "      <th>A.15</th>\n",
       "      <th>B.15</th>\n",
       "      <th>C.15</th>\n",
       "      <th>Unnamed: 251</th>\n",
       "    </tr>\n",
       "  </thead>\n",
       "  <tbody>\n",
       "    <tr>\n",
       "      <th>0</th>\n",
       "      <td>1</td>\n",
       "      <td>1</td>\n",
       "      <td>NaN</td>\n",
       "      <td>NaN</td>\n",
       "      <td>A</td>\n",
       "      <td>8/11/05</td>\n",
       "      <td>280199.0</td>\n",
       "      <td>100.0</td>\n",
       "      <td>0.0</td>\n",
       "      <td>0.0</td>\n",
       "      <td>...</td>\n",
       "      <td>NaN</td>\n",
       "      <td>NaN</td>\n",
       "      <td>NaN</td>\n",
       "      <td>NaN</td>\n",
       "      <td>NaN</td>\n",
       "      <td>NaN</td>\n",
       "      <td>NaN</td>\n",
       "      <td>NaN</td>\n",
       "      <td>NaN</td>\n",
       "      <td>NaN</td>\n",
       "    </tr>\n",
       "    <tr>\n",
       "      <th>1</th>\n",
       "      <td>2</td>\n",
       "      <td>1</td>\n",
       "      <td>2B</td>\n",
       "      <td>10A</td>\n",
       "      <td>B</td>\n",
       "      <td>11/11/05</td>\n",
       "      <td>280103.0</td>\n",
       "      <td>30.0</td>\n",
       "      <td>280106.0</td>\n",
       "      <td>30.0</td>\n",
       "      <td>...</td>\n",
       "      <td>NaN</td>\n",
       "      <td>NaN</td>\n",
       "      <td>NaN</td>\n",
       "      <td>NaN</td>\n",
       "      <td>NaN</td>\n",
       "      <td>NaN</td>\n",
       "      <td>NaN</td>\n",
       "      <td>NaN</td>\n",
       "      <td>NaN</td>\n",
       "      <td>NaN</td>\n",
       "    </tr>\n",
       "    <tr>\n",
       "      <th>2</th>\n",
       "      <td>3</td>\n",
       "      <td>1</td>\n",
       "      <td>29A</td>\n",
       "      <td>10B</td>\n",
       "      <td>A</td>\n",
       "      <td>14/11/05</td>\n",
       "      <td>321004.0</td>\n",
       "      <td>60.0</td>\n",
       "      <td>321216.0</td>\n",
       "      <td>40.0</td>\n",
       "      <td>...</td>\n",
       "      <td>NaN</td>\n",
       "      <td>NaN</td>\n",
       "      <td>NaN</td>\n",
       "      <td>NaN</td>\n",
       "      <td>NaN</td>\n",
       "      <td>NaN</td>\n",
       "      <td>NaN</td>\n",
       "      <td>NaN</td>\n",
       "      <td>NaN</td>\n",
       "      <td>NaN</td>\n",
       "    </tr>\n",
       "    <tr>\n",
       "      <th>3</th>\n",
       "      <td>4</td>\n",
       "      <td>1</td>\n",
       "      <td>40D</td>\n",
       "      <td>10B</td>\n",
       "      <td>C</td>\n",
       "      <td>15/11/05</td>\n",
       "      <td>270602.0</td>\n",
       "      <td>50.0</td>\n",
       "      <td>320602.0</td>\n",
       "      <td>50.0</td>\n",
       "      <td>...</td>\n",
       "      <td>NaN</td>\n",
       "      <td>NaN</td>\n",
       "      <td>NaN</td>\n",
       "      <td>NaN</td>\n",
       "      <td>NaN</td>\n",
       "      <td>NaN</td>\n",
       "      <td>NaN</td>\n",
       "      <td>NaN</td>\n",
       "      <td>NaN</td>\n",
       "      <td>NaN</td>\n",
       "    </tr>\n",
       "    <tr>\n",
       "      <th>4</th>\n",
       "      <td>5</td>\n",
       "      <td>0</td>\n",
       "      <td>59C</td>\n",
       "      <td>10A</td>\n",
       "      <td>A</td>\n",
       "      <td>16/11/05</td>\n",
       "      <td>260500.0</td>\n",
       "      <td>34.0</td>\n",
       "      <td>280000.0</td>\n",
       "      <td>33.0</td>\n",
       "      <td>...</td>\n",
       "      <td>NaN</td>\n",
       "      <td>NaN</td>\n",
       "      <td>NaN</td>\n",
       "      <td>NaN</td>\n",
       "      <td>NaN</td>\n",
       "      <td>NaN</td>\n",
       "      <td>NaN</td>\n",
       "      <td>NaN</td>\n",
       "      <td>NaN</td>\n",
       "      <td>NaN</td>\n",
       "    </tr>\n",
       "  </tbody>\n",
       "</table>\n",
       "<p>5 rows × 252 columns</p>\n",
       "</div>"
      ],
      "text/plain": [
       "   Grant.Application.ID  Grant.Status Sponsor.Code Grant.Category.Code  \\\n",
       "0                     1             1          NaN                 NaN   \n",
       "1                     2             1           2B                 10A   \n",
       "2                     3             1          29A                 10B   \n",
       "3                     4             1          40D                 10B   \n",
       "4                     5             0          59C                 10A   \n",
       "\n",
       "  Contract.Value.Band...see.note.A Start.date  RFCD.Code.1  RFCD.Percentage.1  \\\n",
       "0                               A     8/11/05     280199.0              100.0   \n",
       "1                               B    11/11/05     280103.0               30.0   \n",
       "2                               A    14/11/05     321004.0               60.0   \n",
       "3                               C    15/11/05     270602.0               50.0   \n",
       "4                               A    16/11/05     260500.0               34.0   \n",
       "\n",
       "   RFCD.Code.2  RFCD.Percentage.2      ...       Faculty.No..15  With.PHD.15  \\\n",
       "0          0.0                0.0      ...                  NaN          NaN   \n",
       "1     280106.0               30.0      ...                  NaN          NaN   \n",
       "2     321216.0               40.0      ...                  NaN          NaN   \n",
       "3     320602.0               50.0      ...                  NaN          NaN   \n",
       "4     280000.0               33.0      ...                  NaN          NaN   \n",
       "\n",
       "   No..of.Years.in.Uni.at.Time.of.Grant.15  Number.of.Successful.Grant.15  \\\n",
       "0                                      NaN                            NaN   \n",
       "1                                      NaN                            NaN   \n",
       "2                                      NaN                            NaN   \n",
       "3                                      NaN                            NaN   \n",
       "4                                      NaN                            NaN   \n",
       "\n",
       "   Number.of.Unsuccessful.Grant.15  A..15  A.15  B.15  C.15  Unnamed: 251  \n",
       "0                              NaN    NaN   NaN   NaN   NaN           NaN  \n",
       "1                              NaN    NaN   NaN   NaN   NaN           NaN  \n",
       "2                              NaN    NaN   NaN   NaN   NaN           NaN  \n",
       "3                              NaN    NaN   NaN   NaN   NaN           NaN  \n",
       "4                              NaN    NaN   NaN   NaN   NaN           NaN  \n",
       "\n",
       "[5 rows x 252 columns]"
      ]
     },
     "execution_count": 2,
     "metadata": {},
     "output_type": "execute_result"
    }
   ],
   "source": [
    "train = pd.read_csv('data.csv')\n",
    "train.head()"
   ]
  },
  {
   "cell_type": "code",
   "execution_count": 3,
   "metadata": {
    "collapsed": true
   },
   "outputs": [],
   "source": [
    "vali = pd.read_csv('Validation_25.csv')\n",
    "test = pd.read_csv('Testing 75.csv')"
   ]
  },
  {
   "cell_type": "code",
   "execution_count": 4,
   "metadata": {
    "collapsed": false
   },
   "outputs": [
    {
     "data": {
      "text/html": [
       "<div>\n",
       "<table border=\"1\" class=\"dataframe\">\n",
       "  <thead>\n",
       "    <tr style=\"text-align: right;\">\n",
       "      <th></th>\n",
       "      <th>Grant.Application.ID</th>\n",
       "      <th>Sponsor.Code</th>\n",
       "      <th>Grant.Category.Code</th>\n",
       "      <th>Contract.Value.Band...see.note.A</th>\n",
       "      <th>Start.date</th>\n",
       "      <th>RFCD.Code.1</th>\n",
       "      <th>RFCD.Percentage.1</th>\n",
       "      <th>RFCD.Code.2</th>\n",
       "      <th>RFCD.Percentage.2</th>\n",
       "      <th>RFCD.Code.3</th>\n",
       "      <th>...</th>\n",
       "      <th>Faculty.No..15</th>\n",
       "      <th>With.PHD.15</th>\n",
       "      <th>No..of.Years.in.Uni.at.Time.of.Grant.15</th>\n",
       "      <th>Number.of.Successful.Grant.15</th>\n",
       "      <th>Number.of.Unsuccessful.Grant.15</th>\n",
       "      <th>A..15</th>\n",
       "      <th>A.15</th>\n",
       "      <th>B.15</th>\n",
       "      <th>C.15</th>\n",
       "      <th>Unnamed: 251</th>\n",
       "    </tr>\n",
       "  </thead>\n",
       "  <tbody>\n",
       "    <tr>\n",
       "      <th>0</th>\n",
       "      <td>1</td>\n",
       "      <td>NaN</td>\n",
       "      <td>NaN</td>\n",
       "      <td>A</td>\n",
       "      <td>8/11/05</td>\n",
       "      <td>280199.0</td>\n",
       "      <td>100.0</td>\n",
       "      <td>0.0</td>\n",
       "      <td>0.0</td>\n",
       "      <td>0.0</td>\n",
       "      <td>...</td>\n",
       "      <td>NaN</td>\n",
       "      <td>NaN</td>\n",
       "      <td>NaN</td>\n",
       "      <td>NaN</td>\n",
       "      <td>NaN</td>\n",
       "      <td>NaN</td>\n",
       "      <td>NaN</td>\n",
       "      <td>NaN</td>\n",
       "      <td>NaN</td>\n",
       "      <td>NaN</td>\n",
       "    </tr>\n",
       "    <tr>\n",
       "      <th>1</th>\n",
       "      <td>2</td>\n",
       "      <td>2B</td>\n",
       "      <td>10A</td>\n",
       "      <td>B</td>\n",
       "      <td>11/11/05</td>\n",
       "      <td>280103.0</td>\n",
       "      <td>30.0</td>\n",
       "      <td>280106.0</td>\n",
       "      <td>30.0</td>\n",
       "      <td>280203.0</td>\n",
       "      <td>...</td>\n",
       "      <td>NaN</td>\n",
       "      <td>NaN</td>\n",
       "      <td>NaN</td>\n",
       "      <td>NaN</td>\n",
       "      <td>NaN</td>\n",
       "      <td>NaN</td>\n",
       "      <td>NaN</td>\n",
       "      <td>NaN</td>\n",
       "      <td>NaN</td>\n",
       "      <td>NaN</td>\n",
       "    </tr>\n",
       "    <tr>\n",
       "      <th>2</th>\n",
       "      <td>3</td>\n",
       "      <td>29A</td>\n",
       "      <td>10B</td>\n",
       "      <td>A</td>\n",
       "      <td>14/11/05</td>\n",
       "      <td>321004.0</td>\n",
       "      <td>60.0</td>\n",
       "      <td>321216.0</td>\n",
       "      <td>40.0</td>\n",
       "      <td>0.0</td>\n",
       "      <td>...</td>\n",
       "      <td>NaN</td>\n",
       "      <td>NaN</td>\n",
       "      <td>NaN</td>\n",
       "      <td>NaN</td>\n",
       "      <td>NaN</td>\n",
       "      <td>NaN</td>\n",
       "      <td>NaN</td>\n",
       "      <td>NaN</td>\n",
       "      <td>NaN</td>\n",
       "      <td>NaN</td>\n",
       "    </tr>\n",
       "    <tr>\n",
       "      <th>3</th>\n",
       "      <td>4</td>\n",
       "      <td>40D</td>\n",
       "      <td>10B</td>\n",
       "      <td>C</td>\n",
       "      <td>15/11/05</td>\n",
       "      <td>270602.0</td>\n",
       "      <td>50.0</td>\n",
       "      <td>320602.0</td>\n",
       "      <td>50.0</td>\n",
       "      <td>0.0</td>\n",
       "      <td>...</td>\n",
       "      <td>NaN</td>\n",
       "      <td>NaN</td>\n",
       "      <td>NaN</td>\n",
       "      <td>NaN</td>\n",
       "      <td>NaN</td>\n",
       "      <td>NaN</td>\n",
       "      <td>NaN</td>\n",
       "      <td>NaN</td>\n",
       "      <td>NaN</td>\n",
       "      <td>NaN</td>\n",
       "    </tr>\n",
       "    <tr>\n",
       "      <th>4</th>\n",
       "      <td>5</td>\n",
       "      <td>59C</td>\n",
       "      <td>10A</td>\n",
       "      <td>A</td>\n",
       "      <td>16/11/05</td>\n",
       "      <td>260500.0</td>\n",
       "      <td>34.0</td>\n",
       "      <td>280000.0</td>\n",
       "      <td>33.0</td>\n",
       "      <td>290000.0</td>\n",
       "      <td>...</td>\n",
       "      <td>NaN</td>\n",
       "      <td>NaN</td>\n",
       "      <td>NaN</td>\n",
       "      <td>NaN</td>\n",
       "      <td>NaN</td>\n",
       "      <td>NaN</td>\n",
       "      <td>NaN</td>\n",
       "      <td>NaN</td>\n",
       "      <td>NaN</td>\n",
       "      <td>NaN</td>\n",
       "    </tr>\n",
       "  </tbody>\n",
       "</table>\n",
       "<p>5 rows × 251 columns</p>\n",
       "</div>"
      ],
      "text/plain": [
       "   Grant.Application.ID Sponsor.Code Grant.Category.Code  \\\n",
       "0                     1          NaN                 NaN   \n",
       "1                     2           2B                 10A   \n",
       "2                     3          29A                 10B   \n",
       "3                     4          40D                 10B   \n",
       "4                     5          59C                 10A   \n",
       "\n",
       "  Contract.Value.Band...see.note.A Start.date  RFCD.Code.1  RFCD.Percentage.1  \\\n",
       "0                               A     8/11/05     280199.0              100.0   \n",
       "1                               B    11/11/05     280103.0               30.0   \n",
       "2                               A    14/11/05     321004.0               60.0   \n",
       "3                               C    15/11/05     270602.0               50.0   \n",
       "4                               A    16/11/05     260500.0               34.0   \n",
       "\n",
       "   RFCD.Code.2  RFCD.Percentage.2  RFCD.Code.3      ...       Faculty.No..15  \\\n",
       "0          0.0                0.0          0.0      ...                  NaN   \n",
       "1     280106.0               30.0     280203.0      ...                  NaN   \n",
       "2     321216.0               40.0          0.0      ...                  NaN   \n",
       "3     320602.0               50.0          0.0      ...                  NaN   \n",
       "4     280000.0               33.0     290000.0      ...                  NaN   \n",
       "\n",
       "   With.PHD.15  No..of.Years.in.Uni.at.Time.of.Grant.15  \\\n",
       "0          NaN                                      NaN   \n",
       "1          NaN                                      NaN   \n",
       "2          NaN                                      NaN   \n",
       "3          NaN                                      NaN   \n",
       "4          NaN                                      NaN   \n",
       "\n",
       "   Number.of.Successful.Grant.15  Number.of.Unsuccessful.Grant.15  A..15  \\\n",
       "0                            NaN                              NaN    NaN   \n",
       "1                            NaN                              NaN    NaN   \n",
       "2                            NaN                              NaN    NaN   \n",
       "3                            NaN                              NaN    NaN   \n",
       "4                            NaN                              NaN    NaN   \n",
       "\n",
       "   A.15  B.15  C.15  Unnamed: 251  \n",
       "0   NaN   NaN   NaN           NaN  \n",
       "1   NaN   NaN   NaN           NaN  \n",
       "2   NaN   NaN   NaN           NaN  \n",
       "3   NaN   NaN   NaN           NaN  \n",
       "4   NaN   NaN   NaN           NaN  \n",
       "\n",
       "[5 rows x 251 columns]"
      ]
     },
     "execution_count": 4,
     "metadata": {},
     "output_type": "execute_result"
    }
   ],
   "source": [
    "y = train['Grant.Status']\n",
    "X = train.drop('Grant.Status', axis=1)\n",
    "X.head()"
   ]
  },
  {
   "cell_type": "code",
   "execution_count": 5,
   "metadata": {
    "collapsed": true
   },
   "outputs": [],
   "source": [
    "# convert the first 25 string to numerical features\n",
    "X['Sponsor.Code'] = pd.get_dummies(X['Sponsor.Code'], dummy_na=True).values.argmax(1)\n",
    "X['Grant.Category.Code'] = pd.get_dummies(X['Grant.Category.Code'], dummy_na=True).values.argmax(1)\n",
    "X['Contract.Value.Band...see.note.A'] = pd.get_dummies(X['Contract.Value.Band...see.note.A'], dummy_na=True).values.argmax(1)\n",
    "X['RFCD.Code.1'] = pd.get_dummies(X['RFCD.Code.1'], dummy_na=True).values.argmax(1)\n",
    "X['RFCD.Percentage.1'] = pd.get_dummies(X['RFCD.Percentage.1'], dummy_na=True).values.argmax(1)\n",
    "X['RFCD.Code.2'] = pd.get_dummies(X['RFCD.Code.2'], dummy_na=True).values.argmax(1)\n",
    "X['RFCD.Percentage.2'] = pd.get_dummies(X['RFCD.Percentage.2'], dummy_na=True).values.argmax(1)\n",
    "X['RFCD.Code.3'] = pd.get_dummies(X['RFCD.Code.3'], dummy_na=True).values.argmax(1)\n",
    "X['RFCD.Percentage.3'] = pd.get_dummies(X['RFCD.Percentage.3'], dummy_na=True).values.argmax(1)\n",
    "X['RFCD.Code.4'] = pd.get_dummies(X['RFCD.Code.4'], dummy_na=True).values.argmax(1)\n",
    "X['RFCD.Percentage.4'] = pd.get_dummies(X['RFCD.Percentage.4'], dummy_na=True).values.argmax(1)\n",
    "X['RFCD.Code.5'] = pd.get_dummies(X['RFCD.Code.5'], dummy_na=True).values.argmax(1)\n",
    "X['RFCD.Percentage.5'] = pd.get_dummies(X['RFCD.Percentage.5'], dummy_na=True).values.argmax(1)\n",
    "X['SEO.Code.1'] = pd.get_dummies(X['SEO.Code.1'], dummy_na=True).values.argmax(1)\n",
    "X['SEO.Percentage.1'] = pd.get_dummies(X['SEO.Percentage.1'], dummy_na=True).values.argmax(1)\n",
    "X['SEO.Code.2'] = pd.get_dummies(X['SEO.Code.2'], dummy_na=True).values.argmax(1)\n",
    "X['SEO.Percentage.2'] = pd.get_dummies(X['SEO.Percentage.2'], dummy_na=True).values.argmax(1)\n",
    "X['SEO.Code.3'] = pd.get_dummies(X['SEO.Code.3'], dummy_na=True).values.argmax(1)\n",
    "X['SEO.Percentage.3'] = pd.get_dummies(X['SEO.Percentage.3'], dummy_na=True).values.argmax(1)\n",
    "X['SEO.Code.4'] = pd.get_dummies(X['SEO.Code.4'], dummy_na=True).values.argmax(1)\n",
    "X['SEO.Percentage.4'] = pd.get_dummies(X['SEO.Percentage.4'], dummy_na=True).values.argmax(1)\n",
    "X['SEO.Code.5'] = pd.get_dummies(X['SEO.Code.5'], dummy_na=True).values.argmax(1)\n",
    "X['SEO.Percentage.5'] = pd.get_dummies(X['SEO.Percentage.5'], dummy_na=True).values.argmax(1)"
   ]
  },
  {
   "cell_type": "code",
   "execution_count": 6,
   "metadata": {
    "collapsed": false
   },
   "outputs": [],
   "source": [
    "# convert string features of 15 people to numerics\n",
    "col = 26\n",
    "for i in range(15):\n",
    "    X[X.columns[col]] = pd.get_dummies(X[X.columns[col]], dummy_na=True).values.argmax(1)\n",
    "    X[X.columns[col + 2]] = pd.get_dummies(X[X.columns[col + 2]], dummy_na=True).values.argmax(1)\n",
    "    X[X.columns[col + 3]] = pd.get_dummies(X[X.columns[col + 3]], dummy_na=True).values.argmax(1)\n",
    "    X[X.columns[col + 6]] = pd.get_dummies(X[X.columns[col + 6]], dummy_na=True).values.argmax(1)\n",
    "    X[X.columns[col + 7]] = pd.get_dummies(X[X.columns[col + 7]], dummy_na=True).values.argmax(1)\n",
    "    col = col + 15"
   ]
  },
  {
   "cell_type": "code",
   "execution_count": 7,
   "metadata": {
    "collapsed": true
   },
   "outputs": [],
   "source": [
    "# split to day, month, and year\n",
    "def c_Day(x): return x.split(\"/\")[0]\n",
    "def c_Month(x): return x.split(\"/\")[1]\n",
    "def c_Year(x): return x.split(\"/\")[2]\n",
    "def c_Weekday(x):\n",
    "    d = datetime.datetime(year = int(c_Year(x)), month = int(c_Month(x)), day = int(c_Day(x)))\n",
    "    return d.weekday()\n",
    "def c_Season(x):\n",
    "    month = int(c_Month(x))\n",
    "    day = int(c_Day(x))\n",
    "    if (month in [1,2]):\n",
    "        return 3 # \"winter\"\n",
    "    else:\n",
    "        if (month in [4,5]):\n",
    "            return 0 # \"spring\"\n",
    "        else:\n",
    "            if (month in [7,8]):\n",
    "                return 1 # \"summer\"\n",
    "            else:\n",
    "                if (month in [10,11]):\n",
    "                    return 2 # \"autumn\"\n",
    "                else:\n",
    "                    if (month == 3):\n",
    "                        if (day <= 21):\n",
    "                            return 3 # \"winter\"\n",
    "                        else:\n",
    "                            return 0 # \"spring\"\n",
    "                    else:\n",
    "                        if (month == 6):\n",
    "                            if (day <= 21):\n",
    "                                return 0 # \"spring\"\n",
    "                            else:\n",
    "                                return 1 # \"summer\"\n",
    "                        else:\n",
    "                            if (month == 9):\n",
    "                                if (day <= 21):\n",
    "                                    return 1 # \"summer\"\n",
    "                                else:\n",
    "                                    return 2 # \"autumn\"\n",
    "                            else:\n",
    "                                if (month == 12):\n",
    "                                    if (day <= 21):\n",
    "                                        return 2 # \"autumn\"\n",
    "                                    else:\n",
    "                                        return 3 # \"winter\"\n",
    "    return -1"
   ]
  },
  {
   "cell_type": "code",
   "execution_count": 8,
   "metadata": {
    "collapsed": false
   },
   "outputs": [
    {
     "data": {
      "text/html": [
       "<div>\n",
       "<table border=\"1\" class=\"dataframe\">\n",
       "  <thead>\n",
       "    <tr style=\"text-align: right;\">\n",
       "      <th></th>\n",
       "      <th>Grant.Application.ID</th>\n",
       "      <th>Sponsor.Code</th>\n",
       "      <th>Grant.Category.Code</th>\n",
       "      <th>Contract.Value.Band...see.note.A</th>\n",
       "      <th>RFCD.Code.1</th>\n",
       "      <th>RFCD.Percentage.1</th>\n",
       "      <th>RFCD.Code.2</th>\n",
       "      <th>RFCD.Percentage.2</th>\n",
       "      <th>RFCD.Code.3</th>\n",
       "      <th>RFCD.Percentage.3</th>\n",
       "      <th>...</th>\n",
       "      <th>A..15</th>\n",
       "      <th>A.15</th>\n",
       "      <th>B.15</th>\n",
       "      <th>C.15</th>\n",
       "      <th>Unnamed: 251</th>\n",
       "      <th>Start.day</th>\n",
       "      <th>Start.month</th>\n",
       "      <th>Start.year</th>\n",
       "      <th>Start.weekday</th>\n",
       "      <th>Start.season</th>\n",
       "    </tr>\n",
       "  </thead>\n",
       "  <tbody>\n",
       "    <tr>\n",
       "      <th>0</th>\n",
       "      <td>1</td>\n",
       "      <td>297</td>\n",
       "      <td>13</td>\n",
       "      <td>0</td>\n",
       "      <td>165</td>\n",
       "      <td>23</td>\n",
       "      <td>0</td>\n",
       "      <td>0</td>\n",
       "      <td>0</td>\n",
       "      <td>0</td>\n",
       "      <td>...</td>\n",
       "      <td>NaN</td>\n",
       "      <td>NaN</td>\n",
       "      <td>NaN</td>\n",
       "      <td>NaN</td>\n",
       "      <td>NaN</td>\n",
       "      <td>8</td>\n",
       "      <td>11</td>\n",
       "      <td>05</td>\n",
       "      <td>1</td>\n",
       "      <td>2</td>\n",
       "    </tr>\n",
       "    <tr>\n",
       "      <th>1</th>\n",
       "      <td>2</td>\n",
       "      <td>187</td>\n",
       "      <td>0</td>\n",
       "      <td>1</td>\n",
       "      <td>156</td>\n",
       "      <td>5</td>\n",
       "      <td>167</td>\n",
       "      <td>8</td>\n",
       "      <td>157</td>\n",
       "      <td>14</td>\n",
       "      <td>...</td>\n",
       "      <td>NaN</td>\n",
       "      <td>NaN</td>\n",
       "      <td>NaN</td>\n",
       "      <td>NaN</td>\n",
       "      <td>NaN</td>\n",
       "      <td>11</td>\n",
       "      <td>11</td>\n",
       "      <td>05</td>\n",
       "      <td>4</td>\n",
       "      <td>2</td>\n",
       "    </tr>\n",
       "    <tr>\n",
       "      <th>2</th>\n",
       "      <td>3</td>\n",
       "      <td>186</td>\n",
       "      <td>1</td>\n",
       "      <td>0</td>\n",
       "      <td>359</td>\n",
       "      <td>16</td>\n",
       "      <td>412</td>\n",
       "      <td>14</td>\n",
       "      <td>0</td>\n",
       "      <td>0</td>\n",
       "      <td>...</td>\n",
       "      <td>NaN</td>\n",
       "      <td>NaN</td>\n",
       "      <td>NaN</td>\n",
       "      <td>NaN</td>\n",
       "      <td>NaN</td>\n",
       "      <td>14</td>\n",
       "      <td>11</td>\n",
       "      <td>05</td>\n",
       "      <td>0</td>\n",
       "      <td>2</td>\n",
       "    </tr>\n",
       "    <tr>\n",
       "      <th>3</th>\n",
       "      <td>4</td>\n",
       "      <td>236</td>\n",
       "      <td>1</td>\n",
       "      <td>2</td>\n",
       "      <td>133</td>\n",
       "      <td>13</td>\n",
       "      <td>346</td>\n",
       "      <td>17</td>\n",
       "      <td>0</td>\n",
       "      <td>0</td>\n",
       "      <td>...</td>\n",
       "      <td>NaN</td>\n",
       "      <td>NaN</td>\n",
       "      <td>NaN</td>\n",
       "      <td>NaN</td>\n",
       "      <td>NaN</td>\n",
       "      <td>15</td>\n",
       "      <td>11</td>\n",
       "      <td>05</td>\n",
       "      <td>1</td>\n",
       "      <td>2</td>\n",
       "    </tr>\n",
       "    <tr>\n",
       "      <th>4</th>\n",
       "      <td>5</td>\n",
       "      <td>263</td>\n",
       "      <td>0</td>\n",
       "      <td>0</td>\n",
       "      <td>86</td>\n",
       "      <td>8</td>\n",
       "      <td>161</td>\n",
       "      <td>10</td>\n",
       "      <td>177</td>\n",
       "      <td>10</td>\n",
       "      <td>...</td>\n",
       "      <td>NaN</td>\n",
       "      <td>NaN</td>\n",
       "      <td>NaN</td>\n",
       "      <td>NaN</td>\n",
       "      <td>NaN</td>\n",
       "      <td>16</td>\n",
       "      <td>11</td>\n",
       "      <td>05</td>\n",
       "      <td>2</td>\n",
       "      <td>2</td>\n",
       "    </tr>\n",
       "    <tr>\n",
       "      <th>5</th>\n",
       "      <td>6</td>\n",
       "      <td>255</td>\n",
       "      <td>0</td>\n",
       "      <td>16</td>\n",
       "      <td>396</td>\n",
       "      <td>23</td>\n",
       "      <td>0</td>\n",
       "      <td>0</td>\n",
       "      <td>0</td>\n",
       "      <td>0</td>\n",
       "      <td>...</td>\n",
       "      <td>NaN</td>\n",
       "      <td>NaN</td>\n",
       "      <td>NaN</td>\n",
       "      <td>NaN</td>\n",
       "      <td>NaN</td>\n",
       "      <td>19</td>\n",
       "      <td>11</td>\n",
       "      <td>05</td>\n",
       "      <td>5</td>\n",
       "      <td>2</td>\n",
       "    </tr>\n",
       "    <tr>\n",
       "      <th>6</th>\n",
       "      <td>7</td>\n",
       "      <td>187</td>\n",
       "      <td>0</td>\n",
       "      <td>16</td>\n",
       "      <td>143</td>\n",
       "      <td>13</td>\n",
       "      <td>113</td>\n",
       "      <td>8</td>\n",
       "      <td>116</td>\n",
       "      <td>6</td>\n",
       "      <td>...</td>\n",
       "      <td>NaN</td>\n",
       "      <td>NaN</td>\n",
       "      <td>NaN</td>\n",
       "      <td>NaN</td>\n",
       "      <td>NaN</td>\n",
       "      <td>19</td>\n",
       "      <td>11</td>\n",
       "      <td>05</td>\n",
       "      <td>5</td>\n",
       "      <td>2</td>\n",
       "    </tr>\n",
       "    <tr>\n",
       "      <th>7</th>\n",
       "      <td>8</td>\n",
       "      <td>177</td>\n",
       "      <td>5</td>\n",
       "      <td>0</td>\n",
       "      <td>416</td>\n",
       "      <td>23</td>\n",
       "      <td>0</td>\n",
       "      <td>0</td>\n",
       "      <td>0</td>\n",
       "      <td>0</td>\n",
       "      <td>...</td>\n",
       "      <td>NaN</td>\n",
       "      <td>NaN</td>\n",
       "      <td>NaN</td>\n",
       "      <td>NaN</td>\n",
       "      <td>NaN</td>\n",
       "      <td>19</td>\n",
       "      <td>11</td>\n",
       "      <td>05</td>\n",
       "      <td>5</td>\n",
       "      <td>2</td>\n",
       "    </tr>\n",
       "    <tr>\n",
       "      <th>8</th>\n",
       "      <td>9</td>\n",
       "      <td>187</td>\n",
       "      <td>0</td>\n",
       "      <td>7</td>\n",
       "      <td>76</td>\n",
       "      <td>13</td>\n",
       "      <td>80</td>\n",
       "      <td>17</td>\n",
       "      <td>0</td>\n",
       "      <td>0</td>\n",
       "      <td>...</td>\n",
       "      <td>NaN</td>\n",
       "      <td>NaN</td>\n",
       "      <td>NaN</td>\n",
       "      <td>NaN</td>\n",
       "      <td>NaN</td>\n",
       "      <td>19</td>\n",
       "      <td>11</td>\n",
       "      <td>05</td>\n",
       "      <td>5</td>\n",
       "      <td>2</td>\n",
       "    </tr>\n",
       "    <tr>\n",
       "      <th>9</th>\n",
       "      <td>10</td>\n",
       "      <td>187</td>\n",
       "      <td>0</td>\n",
       "      <td>16</td>\n",
       "      <td>143</td>\n",
       "      <td>10</td>\n",
       "      <td>146</td>\n",
       "      <td>8</td>\n",
       "      <td>101</td>\n",
       "      <td>9</td>\n",
       "      <td>...</td>\n",
       "      <td>NaN</td>\n",
       "      <td>NaN</td>\n",
       "      <td>NaN</td>\n",
       "      <td>NaN</td>\n",
       "      <td>NaN</td>\n",
       "      <td>19</td>\n",
       "      <td>11</td>\n",
       "      <td>05</td>\n",
       "      <td>5</td>\n",
       "      <td>2</td>\n",
       "    </tr>\n",
       "  </tbody>\n",
       "</table>\n",
       "<p>10 rows × 255 columns</p>\n",
       "</div>"
      ],
      "text/plain": [
       "   Grant.Application.ID  Sponsor.Code  Grant.Category.Code  \\\n",
       "0                     1           297                   13   \n",
       "1                     2           187                    0   \n",
       "2                     3           186                    1   \n",
       "3                     4           236                    1   \n",
       "4                     5           263                    0   \n",
       "5                     6           255                    0   \n",
       "6                     7           187                    0   \n",
       "7                     8           177                    5   \n",
       "8                     9           187                    0   \n",
       "9                    10           187                    0   \n",
       "\n",
       "   Contract.Value.Band...see.note.A  RFCD.Code.1  RFCD.Percentage.1  \\\n",
       "0                                 0          165                 23   \n",
       "1                                 1          156                  5   \n",
       "2                                 0          359                 16   \n",
       "3                                 2          133                 13   \n",
       "4                                 0           86                  8   \n",
       "5                                16          396                 23   \n",
       "6                                16          143                 13   \n",
       "7                                 0          416                 23   \n",
       "8                                 7           76                 13   \n",
       "9                                16          143                 10   \n",
       "\n",
       "   RFCD.Code.2  RFCD.Percentage.2  RFCD.Code.3  RFCD.Percentage.3  \\\n",
       "0            0                  0            0                  0   \n",
       "1          167                  8          157                 14   \n",
       "2          412                 14            0                  0   \n",
       "3          346                 17            0                  0   \n",
       "4          161                 10          177                 10   \n",
       "5            0                  0            0                  0   \n",
       "6          113                  8          116                  6   \n",
       "7            0                  0            0                  0   \n",
       "8           80                 17            0                  0   \n",
       "9          146                  8          101                  9   \n",
       "\n",
       "       ...       A..15  A.15  B.15  C.15  Unnamed: 251  Start.day  \\\n",
       "0      ...         NaN   NaN   NaN   NaN           NaN          8   \n",
       "1      ...         NaN   NaN   NaN   NaN           NaN         11   \n",
       "2      ...         NaN   NaN   NaN   NaN           NaN         14   \n",
       "3      ...         NaN   NaN   NaN   NaN           NaN         15   \n",
       "4      ...         NaN   NaN   NaN   NaN           NaN         16   \n",
       "5      ...         NaN   NaN   NaN   NaN           NaN         19   \n",
       "6      ...         NaN   NaN   NaN   NaN           NaN         19   \n",
       "7      ...         NaN   NaN   NaN   NaN           NaN         19   \n",
       "8      ...         NaN   NaN   NaN   NaN           NaN         19   \n",
       "9      ...         NaN   NaN   NaN   NaN           NaN         19   \n",
       "\n",
       "   Start.month  Start.year  Start.weekday  Start.season  \n",
       "0           11          05              1             2  \n",
       "1           11          05              4             2  \n",
       "2           11          05              0             2  \n",
       "3           11          05              1             2  \n",
       "4           11          05              2             2  \n",
       "5           11          05              5             2  \n",
       "6           11          05              5             2  \n",
       "7           11          05              5             2  \n",
       "8           11          05              5             2  \n",
       "9           11          05              5             2  \n",
       "\n",
       "[10 rows x 255 columns]"
      ]
     },
     "execution_count": 8,
     "metadata": {},
     "output_type": "execute_result"
    }
   ],
   "source": [
    "# assigning the split results to data columns\n",
    "X['Start.day'] = X['Start.date'].apply(c_Day)\n",
    "X['Start.month'] = X['Start.date'].apply(c_Month)\n",
    "X['Start.year'] = X['Start.date'].apply(c_Year)\n",
    "X['Start.weekday'] = X['Start.date'].apply(c_Weekday)\n",
    "X['Start.season'] = X['Start.date'].apply(c_Season)\n",
    "X = X.drop('Start.date', axis=1)\n",
    "X.head(10)"
   ]
  },
  {
   "cell_type": "code",
   "execution_count": 9,
   "metadata": {
    "collapsed": false
   },
   "outputs": [],
   "source": [
    "#daria selecting train, validation, and test\n",
    "#select train set \n",
    "X_train = X.loc[~X['Grant.Application.ID'].isin(vali['ids']) & ~X['Grant.Application.ID'].isin(test['ids'])]\n",
    "y_train = y.loc[~X['Grant.Application.ID'].isin(vali['ids']) & ~X['Grant.Application.ID'].isin(test['ids'])]\n",
    "\n",
    "#select validation set \n",
    "X_vali =X.loc[X['Grant.Application.ID'].isin(vali['ids'])]\n",
    "y_vali =y.loc[X['Grant.Application.ID'].isin(vali['ids'])]\n",
    "\n",
    "#select test set for predictions\n",
    "X_test =X.loc[X['Grant.Application.ID'].isin(test['ids'])]\n",
    "y_test =y.loc[X['Grant.Application.ID'].isin(test['ids'])]"
   ]
  },
  {
   "cell_type": "code",
   "execution_count": 10,
   "metadata": {
    "collapsed": false
   },
   "outputs": [],
   "source": [
    "imp = Imputer(missing_values='NaN', strategy='mean', axis=0)\n",
    "imp.fit(X.values)\n",
    "X_train = imp.transform(X_train)\n",
    "X_vali = imp.transform(X_vali)\n",
    "X_test = imp.transform(X_test)"
   ]
  },
  {
   "cell_type": "code",
   "execution_count": 11,
   "metadata": {
    "collapsed": false
   },
   "outputs": [
    {
     "data": {
      "text/plain": [
       "(6633, 242)"
      ]
     },
     "metadata": {},
     "output_type": "display_data"
    },
    {
     "data": {
      "text/plain": [
       "(6633,)"
      ]
     },
     "metadata": {},
     "output_type": "display_data"
    },
    {
     "data": {
      "text/plain": [
       "(518, 242)"
      ]
     },
     "metadata": {},
     "output_type": "display_data"
    },
    {
     "data": {
      "text/plain": [
       "(518,)"
      ]
     },
     "metadata": {},
     "output_type": "display_data"
    },
    {
     "data": {
      "text/plain": [
       "(1557, 242)"
      ]
     },
     "metadata": {},
     "output_type": "display_data"
    },
    {
     "data": {
      "text/plain": [
       "(1557,)"
      ]
     },
     "metadata": {},
     "output_type": "display_data"
    }
   ],
   "source": [
    "#Daria check no of lines\n",
    "display(X_train.shape)\n",
    "display(y_train.shape)\n",
    "display(X_vali.shape)\n",
    "display(y_vali.shape)\n",
    "display(X_test.shape)\n",
    "display(y_test.shape)"
   ]
  },
  {
   "cell_type": "code",
   "execution_count": 12,
   "metadata": {
    "collapsed": false
   },
   "outputs": [
    {
     "name": "stdout",
     "output_type": "stream",
     "text": [
      "0.878378378378\n"
     ]
    }
   ],
   "source": [
    "rfc = RandomForestClassifier(max_depth=200, n_estimators=1250)\n",
    "rfc.fit(X_train, y_train)\n",
    "s = rfc.score(X_vali, y_vali)\n",
    "print(s)"
   ]
  },
  {
   "cell_type": "code",
   "execution_count": 13,
   "metadata": {
    "collapsed": false
   },
   "outputs": [
    {
     "name": "stdout",
     "output_type": "stream",
     "text": [
      "0.858702633269\n"
     ]
    }
   ],
   "source": [
    "print rfc.score(X_test, y_test)"
   ]
  },
  {
   "cell_type": "code",
   "execution_count": 15,
   "metadata": {
    "collapsed": false
   },
   "outputs": [
    {
     "name": "stdout",
     "output_type": "stream",
     "text": [
      "ROC AUC: 0.936789\n"
     ]
    },
    {
     "data": {
      "image/png": "[encoded data removed]",
      "text/plain": [
       "<matplotlib.figure.Figure at 0x1394cbf90>"
      ]
     },
     "metadata": {},
     "output_type": "display_data"
    }
   ],
   "source": [
    "# Determine the false positive and true positive rates\n",
    "fpr, tpr, _ = roc_curve(y_test, rfc.predict_proba(X_test)[:,1])\n",
    "\n",
    "# Calculate the AUC\n",
    "roc_auc = auc(fpr, tpr)\n",
    "print 'ROC AUC: %0.6f' % roc_auc\n",
    "\n",
    "# Plot of a ROC curve for a specific class\n",
    "plt.figure()\n",
    "plt.plot(fpr, tpr, label='ROC curve (area = %0.2f)' % roc_auc)\n",
    "plt.plot([0, 1], [0, 1], 'k--')\n",
    "plt.xlim([0.0, 1.0])\n",
    "plt.ylim([0.0, 1.05])\n",
    "plt.xlabel('False Positive Rate')\n",
    "plt.ylabel('True Positive Rate')\n",
    "plt.title('ROC Curve')\n",
    "plt.legend(loc=\"lower right\")\n",
    "plt.show()"
   ]
  },
  {
   "cell_type": "code",
   "execution_count": 16,
   "metadata": {
    "collapsed": false
   },
   "outputs": [
    {
     "name": "stdout",
     "output_type": "stream",
     "text": [
      "Classification report:\n",
      "\n",
      "             precision    recall  f1-score   support\n",
      "\n",
      "          0       0.91      0.86      0.89       987\n",
      "          1       0.78      0.86      0.82       570\n",
      "\n",
      "avg / total       0.86      0.86      0.86      1557\n",
      "\n",
      "\n",
      "Confusion matrix\n",
      "[[849 138]\n",
      " [ 82 488]]\n"
     ]
    }
   ],
   "source": [
    "y_label = rfc.predict(X_test)\n",
    "print \"Classification report:\"\n",
    "print\n",
    "print metrics.classification_report(y_test, y_label)\n",
    "print\n",
    "print \"Confusion matrix\"\n",
    "print metrics.confusion_matrix(y_test, y_label)"
   ]
  },
  {
   "cell_type": "code",
   "execution_count": 17,
   "metadata": {
    "collapsed": false
   },
   "outputs": [
    {
     "name": "stdout",
     "output_type": "stream",
     "text": [
      "Accuracy: 0.8574\n"
     ]
    }
   ],
   "source": [
    "# Fit classifier with out-of-bag estimates\n",
    "params = {'n_estimators': 250, 'max_depth': 10, 'subsample': 0.5,\n",
    "          'learning_rate': 0.01, 'min_samples_leaf': 1, 'random_state': 3}\n",
    "gbm = ensemble.GradientBoostingClassifier(**params)\n",
    "\n",
    "gbm.fit(X_train, y_train)\n",
    "acc = gbm.score(X_test, y_test)\n",
    "print(\"Accuracy: {:.4f}\".format(acc))"
   ]
  },
  {
   "cell_type": "code",
   "execution_count": 18,
   "metadata": {
    "collapsed": false
   },
   "outputs": [
    {
     "name": "stdout",
     "output_type": "stream",
     "text": [
      "ROC AUC: 0.939246\n"
     ]
    },
    {
     "data": {
      "image/png": "[encoded data removed]",
      "text/plain": [
       "<matplotlib.figure.Figure at 0x119c35f50>"
      ]
     },
     "metadata": {},
     "output_type": "display_data"
    }
   ],
   "source": [
    "# Determine the false positive and true positive rates\n",
    "fpr, tpr, _ = roc_curve(y_test, gbm.predict_proba(X_test)[:,1])\n",
    "\n",
    "# Calculate the AUC\n",
    "roc_auc = auc(fpr, tpr)\n",
    "print 'ROC AUC: %0.6f' % roc_auc\n",
    "\n",
    "# Plot of a ROC curve for a specific class\n",
    "plt.figure()\n",
    "plt.plot(fpr, tpr, label='ROC curve (area = %0.2f)' % roc_auc)\n",
    "plt.plot([0, 1], [0, 1], 'k--')\n",
    "plt.xlim([0.0, 1.0])\n",
    "plt.ylim([0.0, 1.05])\n",
    "plt.xlabel('False Positive Rate')\n",
    "plt.ylabel('True Positive Rate')\n",
    "plt.title('ROC Curve')\n",
    "plt.legend(loc=\"lower right\")\n",
    "plt.show()"
   ]
  },
  {
   "cell_type": "code",
   "execution_count": 20,
   "metadata": {
    "collapsed": false
   },
   "outputs": [
    {
     "name": "stdout",
     "output_type": "stream",
     "text": [
      "Classification report:\n",
      "\n",
      "             precision    recall  f1-score   support\n",
      "\n",
      "          0       0.90      0.87      0.89       987\n",
      "          1       0.79      0.84      0.81       570\n",
      "\n",
      "avg / total       0.86      0.86      0.86      1557\n",
      "\n",
      "\n",
      "Confusion matrix\n",
      "[[857 130]\n",
      " [ 92 478]]\n"
     ]
    }
   ],
   "source": [
    "y_label = gbm.predict(X_test)\n",
    "print \"Classification report:\"\n",
    "print\n",
    "print metrics.classification_report(y_test, y_label)\n",
    "print\n",
    "print \"Confusion matrix\"\n",
    "print metrics.confusion_matrix(y_test, y_label)"
   ]
  },
  {
   "cell_type": "code",
   "execution_count": 21,
   "metadata": {
    "collapsed": false,
    "scrolled": true
   },
   "outputs": [
    {
     "name": "stdout",
     "output_type": "stream",
     "text": [
      "Nearest Neighbors: 0.539499036609\n",
      "Decision Tree: 0.839434810533\n",
      "AdaBoost: 0.828516377649\n",
      "Naive Bayes: 0.634553628773\n",
      "Random Forest: 0.853564547206\n",
      "Lin Discr Analysis: 0.783558124599\n",
      "Quad Discr Analysis: 0.6326268465\n"
     ]
    },
    {
     "name": "stderr",
     "output_type": "stream",
     "text": [
      "/Users/tvnguyen/Softwares/anaconda2/lib/python2.7/site-packages/sklearn/discriminant_analysis.py:387: UserWarning: Variables are collinear.\n",
      "  warnings.warn(\"Variables are collinear.\")\n",
      "/Users/tvnguyen/Softwares/anaconda2/lib/python2.7/site-packages/sklearn/discriminant_analysis.py:688: UserWarning: Variables are collinear\n",
      "  warnings.warn(\"Variables are collinear\")\n"
     ]
    }
   ],
   "source": [
    "names = [\"Nearest Neighbors\", \"Decision Tree\", \"AdaBoost\", \"Naive Bayes\", \n",
    "         \"Random Forest\", \"Lin Discr Analysis\", \"Quad Discr Analysis\"]\n",
    "classifiers = [\n",
    "    KNeighborsClassifier(3),\n",
    "    DecisionTreeClassifier(max_depth=5),\n",
    "    AdaBoostClassifier(),\n",
    "    GaussianNB(),\n",
    "    RandomForestClassifier(max_depth=200, n_estimators=1250),\n",
    "    LinearDiscriminantAnalysis(),\n",
    "    QuadraticDiscriminantAnalysis()]\n",
    "\n",
    "# iterate over classifiers\n",
    "for name, clf in zip(names, classifiers):\n",
    "    clf.fit(X_train, y_train)\n",
    "    score = clf.score(X_test, y_test)\n",
    "    print name + \": \" + str(score)"
   ]
  },
  {
   "cell_type": "code",
   "execution_count": 50,
   "metadata": {
    "collapsed": false
   },
   "outputs": [],
   "source": []
  },
  {
   "cell_type": "code",
   "execution_count": 22,
   "metadata": {
    "collapsed": false
   },
   "outputs": [],
   "source": [
    "X1_train=[] \n",
    "for i in range(0, X_train.shape[0]):\n",
    "      X1_train.append(list(X_train[i]))\n",
    "        \n",
    "X1_vali=[] \n",
    "for i in range(0, X_vali.shape[0]):\n",
    "      X1_vali.append(list(X_vali[i]))\n",
    "        \n",
    "X1_test=[] \n",
    "for i in range(0, X_test.shape[0]):\n",
    "      X1_test.append(list(X_test[i]))\n",
    "\n",
    "y1_train = y_train.replace(0, -1, inplace=False)\n",
    "y1_vali = y_vali.replace(0, -1, inplace=False)\n",
    "y1_test = y_test.replace(0, -1, inplace=False)"
   ]
  },
  {
   "cell_type": "code",
   "execution_count": 23,
   "metadata": {
    "collapsed": false
   },
   "outputs": [],
   "source": [
    "dump_svmlight_file(X1_train, y1_train, \"train.t\", zero_based=False)\n",
    "dump_svmlight_file(X1_vali, y1_vali, \"validation.t\", zero_based=False)\n",
    "dump_svmlight_file(X1_test, y1_test, \"test.t\", zero_based=False)"
   ]
  },
  {
   "cell_type": "code",
   "execution_count": null,
   "metadata": {
    "collapsed": false
   },
   "outputs": [],
   "source": [
    "prob  = svm_problem(y_train, X1_train)\n",
    "# param = svm_parameter('-s 0 -c 0.01 -t 1 -d 3')\n",
    "# param = svm_parameter('-s 0 -c 0.025')\n",
    "# param = svm_parameter('-c 0.01 -g 2')\n",
    "# param = svm_parameter('-s 1')\n",
    "param = svm_parameter('-s 0 -c 0.0001')\n",
    "m = svm_train(prob, param)"
   ]
  },
  {
   "cell_type": "code",
   "execution_count": null,
   "metadata": {
    "collapsed": false
   },
   "outputs": [],
   "source": [
    "p_label, p_acc, p_val = svm_predict(y_test, X1_test, m)"
   ]
  },
  {
   "cell_type": "code",
   "execution_count": 43,
   "metadata": {
    "collapsed": false
   },
   "outputs": [
    {
     "name": "stdout",
     "output_type": "stream",
     "text": [
      "0.633911368015\n"
     ]
    }
   ],
   "source": [
    "y_label = clf.predict(X_test)\n",
    "print \"Classification report:\"\n",
    "print\n",
    "print metrics.classification_report(y_test, y_label)\n",
    "print\n",
    "print \"Confusion matrix\"\n",
    "print metrics.confusion_matrix(y_test, y_label"
   ]
  },
  {
   "cell_type": "code",
   "execution_count": null,
   "metadata": {
    "collapsed": false
   },
   "outputs": [],
   "source": [
    "svc = svm.SVC(C = 0.025, kernel = 'linear')\n",
    "svc.fit(X_train, y_train)"
   ]
  },
  {
   "cell_type": "code",
   "execution_count": null,
   "metadata": {
    "collapsed": true
   },
   "outputs": [],
   "source": [
    "y_label = svc.predict(X_test)\n",
    "print svc.score(X_test, y_test)"
   ]
  }
 ],
 "metadata": {
  "kernelspec": {
   "display_name": "Python 2",
   "language": "python",
   "name": "python2"
  },
  "language_info": {
   "codemirror_mode": {
    "name": "ipython",
    "version": 2
   },
   "file_extension": ".py",
   "mimetype": "text/x-python",
   "name": "python",
   "nbconvert_exporter": "python",
   "pygments_lexer": "ipython2",
   "version": "2.7.10"
  }
 },
 "nbformat": 4,
 "nbformat_minor": 0
}
